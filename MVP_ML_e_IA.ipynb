{
  "cells": [
    {
      "cell_type": "markdown",
      "metadata": {
        "id": "view-in-github",
        "colab_type": "text"
      },
      "source": [
        "<a href=\"https://colab.research.google.com/github/dankrelium/Pos-Graduacao/blob/main/MVP_ML_e_IA.ipynb\" target=\"_parent\"><img src=\"https://colab.research.google.com/assets/colab-badge.svg\" alt=\"Open In Colab\"/></a>"
      ]
    },
    {
      "cell_type": "markdown",
      "metadata": {
        "id": "42lGF6VNQ6Tx"
      },
      "source": [
        "# Imports"
      ]
    },
    {
      "cell_type": "code",
      "source": [
        "#!pip install transformers\n",
        "#!pip install fuzzywuzzy"
      ],
      "metadata": {
        "id": "ZDVeMG2jbo9Z"
      },
      "execution_count": 76,
      "outputs": []
    },
    {
      "cell_type": "code",
      "execution_count": 149,
      "metadata": {
        "id": "h1qwi1cZ1IuW",
        "colab": {
          "base_uri": "https://localhost:8080/"
        },
        "outputId": "da4facd9-47d3-4767-d7ac-43e9c29226ee"
      },
      "outputs": [
        {
          "output_type": "stream",
          "name": "stderr",
          "text": [
            "[nltk_data] Downloading package stopwords to /root/nltk_data...\n",
            "[nltk_data]   Package stopwords is already up-to-date!\n",
            "[nltk_data] Downloading package punkt to /root/nltk_data...\n",
            "[nltk_data]   Package punkt is already up-to-date!\n"
          ]
        }
      ],
      "source": [
        "import warnings\n",
        "warnings.filterwarnings(\"ignore\")\n",
        "\n",
        "import tensorflow as tf\n",
        "import sklearn as sk\n",
        "import pandas as pd\n",
        "from scipy.stats import f_oneway, chi2_contingency\n",
        "import seaborn as sns\n",
        "import numpy as np\n",
        "import matplotlib.pyplot as plt\n",
        "\n",
        "#from sklearn.datasets import load_diabetes\n",
        "from sklearn.model_selection import train_test_split, KFold, cross_val_score, StratifiedKFold, GridSearchCV\n",
        "#from sklearn.model_selection import KFold\n",
        "#from sklearn.model_selection import cross_val_score\n",
        "from sklearn.metrics import mean_squared_error, mean_absolute_error\n",
        "from sklearn.linear_model import LinearRegression, Ridge, Lasso\n",
        "#from sklearn.linear_model import Ridge\n",
        "#from sklearn.linear_model import Lasso\n",
        "from sklearn.neighbors import KNeighborsRegressor\n",
        "from sklearn.tree import DecisionTreeRegressor\n",
        "from sklearn.svm import SVR\n",
        "from sklearn.ensemble import RandomForestRegressor, GradientBoostingRegressor, AdaBoostRegressor, ExtraTreesRegressor\n",
        "#from sklearn.ensemble import GradientBoostingRegressor\n",
        "#from sklearn.ensemble import AdaBoostRegressor\n",
        "#from sklearn.ensemble import ExtraTreesRegressor\n",
        "from sklearn.neural_network import MLPRegressor\n",
        "from sklearn.preprocessing import StandardScaler, MinMaxScaler, OneHotEncoder\n",
        "#from sklearn.preprocessing import OneHotEncoder\n",
        "#from sklearn.preprocessing import MinMaxScaler\n",
        "#from sklearn.model_selection import StratifiedKFold\n",
        "#from sklearn.model_selection import GridSearchCV\n",
        "from sklearn.pipeline import Pipeline\n",
        "\n",
        "from keras.preprocessing.text import Tokenizer\n",
        "from keras.utils import pad_sequences, to_categorical\n",
        "#from keras.utils import to_categorical\n",
        "from keras.models import Sequential\n",
        "from keras.layers import Embedding, GlobalAveragePooling1D, Conv1D, LSTM, Dense, Bidirectional, Dropout\n",
        "#from keras.layers import LSTM\n",
        "#from keras.layers import Dense\n",
        "#from keras.layers import Bidirectional\n",
        "#from keras.layers import Dropout\n",
        "from keras import regularizers\n",
        "from sklearn.metrics import confusion_matrix\n",
        "import itertools\n",
        "\n",
        "import re\n",
        "import nltk\n",
        "from nltk.stem import PorterStemmer\n",
        "nltk.download('stopwords')\n",
        "nltk.download('punkt')\n",
        "from nltk.corpus import stopwords\n",
        "from nltk.tokenize import word_tokenize\n",
        "from sklearn.metrics import accuracy_score, classification_report\n",
        "from tensorflow.keras.callbacks import EarlyStopping\n",
        "import pickle"
      ]
    },
    {
      "cell_type": "markdown",
      "metadata": {
        "id": "VAJIyRQNHIjn"
      },
      "source": [
        "# Modelo 1: Machine Learning Clássico"
      ]
    },
    {
      "cell_type": "markdown",
      "metadata": {
        "id": "w8mh_Z9GxqqK"
      },
      "source": [
        "Para esta estapa foi escolhido um problema de regressão.\n",
        "\n",
        "O dataset foi extraído do [Kaggle](https://www.kaggle.com/competitions/house-prices-advanced-regression-techniques) e consiste em 1460 registros de imóveis vendidos em Ames (Iowa-EUA) com 81 atributos em cada registro, como tipo de imóvel, metragem quadrada, quantidade de quartos, etc, incluindo o valor de venda do imóvel, que será o target.\n"
      ]
    },
    {
      "cell_type": "markdown",
      "metadata": {
        "id": "TdSQdxIzx7u_"
      },
      "source": [
        "##**Análise e tratamento dos dados**\n",
        "\n"
      ]
    },
    {
      "cell_type": "markdown",
      "metadata": {
        "id": "CcHVN9m13Weh"
      },
      "source": [
        "Os atributos foram analisados um a um de acordo com a descrição fornecida pelo Kaggle, e definidos de acordo com a seguinte lógica:\n",
        "\n",
        "Numéricos ordinais: float.\n",
        "\n",
        "Numéricos categóricos: object.\n",
        "\n",
        "Categóricos: object.\n",
        "\n",
        "Outro objetivo dessa análise foi identificar os atributos categóricos ordinais para posteriormente transformá-los em números de acordo com sua hierarquia."
      ]
    },
    {
      "cell_type": "code",
      "execution_count": 78,
      "metadata": {
        "id": "mK5KgV6IaIEm"
      },
      "outputs": [],
      "source": [
        "# Definindo o dtype das colunas ao carregar o arquivo\n",
        "dtype = {'MSSubClass': object, 'MSZoning': object, 'LotFrontage': float, 'LotArea':object, 'Street':object, 'Alley':object, 'LotShape':object,\n",
        "         'LandContour':object, 'Utilities':object, 'LotConfig':object, 'LandSlope':object, 'Neighborhood':object, 'Condition1':object,\n",
        "         'Condition2':object, 'BldgType':object, 'HouseStyle':object, 'OverallQual':float, 'OverallCond':float, 'YearBuilt':float,\n",
        "         'YearRemodAdd':float, 'RoofStyle':object, 'RoofMatl':object, 'Exterior1st':object, 'Exterior2nd':object, 'MasVnrType':object,\n",
        "         'MasVnrArea':float, 'ExterQual':object, 'ExterCond':object, 'Foundation':object, 'BsmtQual':object, 'BsmtCond':object,\n",
        "         'BsmtExposure':object, 'BsmtFinType1':object, 'BsmtFinSF1':float, 'BsmtFinType2':object, 'BsmtFinSF2':float, 'BsmtUnfSF':float,\n",
        "         'TotalBsmtSF':float, 'Heating':object, 'HeatingQC':object, 'CentralAir':object, 'Electrical':object, '1stFlrSF':float, '2ndFlrSF':float,\n",
        "         'LowQualFinSF':float, 'GrLivArea':float, 'BsmtFullBath':float, 'BsmtHalfBath':float, 'FullBath':float, 'HalfBath':float, 'Bedroom':float,\n",
        "         'Kitchen':float, 'KitchenQual':object, 'TotRmsAbvGrd':float, 'Functional':object, 'Fireplaces':float, 'FireplaceQu':object,\n",
        "         'GarageType':object, 'GarageYrBlt':float, 'GarageFinish':object, 'GarageCars':float, 'GarageArea':float, 'GarageQual':object,\n",
        "         'GarageCond':object, 'PavedDrive':object, 'WoodDeckSF':float, 'OpenPorchSF':float, 'EnclosedPorch':float, '3SsnPorch':float,\n",
        "         'ScreenPorch':float, 'PoolArea':float, 'PoolQC':object, 'Fence':object, 'MiscFeature':object, 'MiscVal':float, 'MoSold':object,\n",
        "         'YrSold':object, 'SaleType':object}\n",
        "\n",
        "df = pd.read_csv('https://raw.githubusercontent.com/dankrelium/Pos-Graduacao/main/AI/data/real_state.csv', dtype=dtype)\n",
        "#df = pd.read_csv('/content/drive/MyDrive/PÓS CD E IA/MVP ML e IA/train.csv', dtype=dtype)\n",
        "df = df.drop(['Id'], axis=1) # Remoção de atributo irrelevante"
      ]
    },
    {
      "cell_type": "markdown",
      "metadata": {
        "id": "YoYgRWDWA1WW"
      },
      "source": [
        "Dos 13 atributos categóricos ordinais, 10 compartilham das mesmas categorias (Ex, Gd, TA, Fa, Po). Destas, 5 compartilham uma categoria extra (NA), em que:\n",
        "\n",
        "Ex = Excellent\n",
        "\n",
        "Gd = Good\n",
        "\n",
        "TA = Typical\n",
        "\n",
        "Fa = Fair\n",
        "\n",
        "Po = Poor\n",
        "\n",
        "NA = No ***Basement (or Garage, Pool, Fireplace...)***\n",
        "\n",
        "Ou seja, estes atributos avaliam a qualidade de uma parte da casa, e 'NA' indica que a casa não possui tal parte.\n",
        "\n",
        "Como veremos a seguir, não há valores 'NA' no dataframe, então assumiremos que estes constam como NAN (a análise do boxplot corroborou essa tese)."
      ]
    },
    {
      "cell_type": "code",
      "execution_count": 79,
      "metadata": {
        "id": "tryOe2xxwQmY"
      },
      "outputs": [],
      "source": [
        "colunas_categoricas_ordinais = ['ExterQual', 'ExterCond', \"BsmtQual\", \"BsmtCond\", \"HeatingQC\", \"KitchenQual\", \"FireplaceQu\", \"GarageQual\", \"GarageCond\", \"PoolQC\"]"
      ]
    },
    {
      "cell_type": "code",
      "execution_count": 80,
      "metadata": {
        "colab": {
          "base_uri": "https://localhost:8080/"
        },
        "id": "rqrvcwqliZFC",
        "outputId": "8a09d6d6-c0ad-406b-b438-95c59927360f"
      },
      "outputs": [
        {
          "output_type": "stream",
          "name": "stdout",
          "text": [
            "Valores únicos em ExterQual: ['Gd' 'TA' 'Ex' 'Fa']\n",
            "Valores únicos em ExterCond: ['TA' 'Gd' 'Fa' 'Po' 'Ex']\n",
            "Valores únicos em BsmtQual: ['Gd' 'TA' 'Ex' nan 'Fa']\n",
            "Valores únicos em BsmtCond: ['TA' 'Gd' nan 'Fa' 'Po']\n",
            "Valores únicos em HeatingQC: ['Ex' 'Gd' 'TA' 'Fa' 'Po']\n",
            "Valores únicos em KitchenQual: ['Gd' 'TA' 'Ex' 'Fa']\n",
            "Valores únicos em FireplaceQu: [nan 'TA' 'Gd' 'Fa' 'Ex' 'Po']\n",
            "Valores únicos em GarageQual: ['TA' 'Fa' 'Gd' nan 'Ex' 'Po']\n",
            "Valores únicos em GarageCond: ['TA' 'Fa' nan 'Gd' 'Po' 'Ex']\n",
            "Valores únicos em PoolQC: [nan 'Ex' 'Fa' 'Gd']\n"
          ]
        }
      ],
      "source": [
        "for coluna in df[colunas_categoricas_ordinais]:\n",
        "    valores_unicos = df[coluna].unique()\n",
        "    print(f\"Valores únicos em {coluna}: {valores_unicos}\")"
      ]
    },
    {
      "cell_type": "code",
      "execution_count": 81,
      "metadata": {
        "colab": {
          "base_uri": "https://localhost:8080/"
        },
        "id": "1hDyjBeFlKI-",
        "outputId": "ea8031fa-1754-4086-ff1c-ebd111c94f46"
      },
      "outputs": [
        {
          "output_type": "stream",
          "name": "stdout",
          "text": [
            "LotFrontage      259\n",
            "Alley           1369\n",
            "MasVnrType         8\n",
            "MasVnrArea         8\n",
            "BsmtQual          37\n",
            "BsmtCond          37\n",
            "BsmtExposure      38\n",
            "BsmtFinType1      37\n",
            "BsmtFinType2      38\n",
            "Electrical         1\n",
            "FireplaceQu      690\n",
            "GarageType        81\n",
            "GarageYrBlt       81\n",
            "GarageFinish      81\n",
            "GarageQual        81\n",
            "GarageCond        81\n",
            "PoolQC          1453\n",
            "Fence           1179\n",
            "MiscFeature     1406\n",
            "dtype: int64\n"
          ]
        }
      ],
      "source": [
        "nulos_por_coluna = df.isnull().sum()\n",
        "nulos_por_coluna = nulos_por_coluna[nulos_por_coluna > 0]\n",
        "print(nulos_por_coluna)"
      ]
    },
    {
      "cell_type": "code",
      "execution_count": 82,
      "metadata": {
        "id": "2y4hlQkDqR3F"
      },
      "outputs": [],
      "source": [
        "# Substituindo os valores NaN por \"NA\" nas colunas categóricas\n",
        "df[colunas_categoricas_ordinais] = df[colunas_categoricas_ordinais].fillna('NA')"
      ]
    },
    {
      "cell_type": "markdown",
      "metadata": {
        "id": "AsbgJJYW1m3Q"
      },
      "source": [
        "Transformação das categorias ordinais em números:"
      ]
    },
    {
      "cell_type": "code",
      "execution_count": 83,
      "metadata": {
        "id": "OIYTRo0C0Ks8"
      },
      "outputs": [],
      "source": [
        "# Mapear as substituições desejadas\n",
        "substituicoes = {'Ex': 5,'Gd': 4,\"TA\": 3,\"Fa\": 2,\"Po\": 1,\"NA\": 0}\n",
        "# Aplicar as substituições nas colunas especificadas\n",
        "colunas_especificas = ['ExterQual', 'ExterCond', \"BsmtQual\", \"BsmtCond\", \"HeatingQC\", \"KitchenQual\", \"FireplaceQu\", \"GarageQual\", \"GarageCond\", \"PoolQC\"]\n",
        "df[colunas_especificas] = df[colunas_especificas].replace(substituicoes).astype(float)"
      ]
    },
    {
      "cell_type": "markdown",
      "metadata": {
        "id": "2yXRYvM-178X"
      },
      "source": [
        "Transformação das categorias ordinais com qualidades singulares em números:"
      ]
    },
    {
      "cell_type": "code",
      "execution_count": 84,
      "metadata": {
        "id": "Vyqz1fkV159q"
      },
      "outputs": [],
      "source": [
        "df[\"LotShape\"] = df[\"LotShape\"].replace({'Reg':3,'IR1':2,\"IR2\": 1,\"IR3\": 0}).astype(float)\n",
        "df[\"LandSlope\"] = df[\"LandSlope\"].replace({'Sev': 2,'Mod': 1,\"Gtl\": 0}).astype(float)\n",
        "df[\"BsmtExposure\"] = df[\"BsmtExposure\"].replace({'Gd':4,'Av': 3,\"Mn\": 2, \"No\":1,\"NA\": 0}).astype(float)"
      ]
    },
    {
      "cell_type": "markdown",
      "source": [
        "Verificação dos valores nulos do dataset por coluna:"
      ],
      "metadata": {
        "id": "HQykZk-Uhmlq"
      }
    },
    {
      "cell_type": "code",
      "execution_count": 85,
      "metadata": {
        "colab": {
          "base_uri": "https://localhost:8080/"
        },
        "id": "e9ht7p4NxE3Y",
        "outputId": "758e8605-23af-4c1d-dd64-2a98a6f4fd2f"
      },
      "outputs": [
        {
          "output_type": "stream",
          "name": "stdout",
          "text": [
            "LotFrontage      259\n",
            "Alley           1369\n",
            "MasVnrType         8\n",
            "MasVnrArea         8\n",
            "BsmtExposure      38\n",
            "BsmtFinType1      37\n",
            "BsmtFinType2      38\n",
            "Electrical         1\n",
            "GarageType        81\n",
            "GarageYrBlt       81\n",
            "GarageFinish      81\n",
            "Fence           1179\n",
            "MiscFeature     1406\n",
            "dtype: int64\n"
          ]
        }
      ],
      "source": [
        "nulos_por_coluna = df.isnull().sum()\n",
        "nulos_por_coluna = nulos_por_coluna[nulos_por_coluna > 0]\n",
        "print(nulos_por_coluna)"
      ]
    },
    {
      "cell_type": "markdown",
      "metadata": {
        "id": "XVlyAF4v0l5P"
      },
      "source": [
        "Conferindo os index dos valores nulos dos atributos **MasVnrType** e **MasVnrArea**"
      ]
    },
    {
      "cell_type": "code",
      "execution_count": 86,
      "metadata": {
        "colab": {
          "base_uri": "https://localhost:8080/"
        },
        "id": "tsMgvmukxEtv",
        "outputId": "8169cc99-6e22-4306-b08d-c2e0ead78db7"
      },
      "outputs": [
        {
          "output_type": "execute_result",
          "data": {
            "text/plain": [
              "Int64Index([234, 529, 650, 936, 973, 977, 1243, 1278], dtype='int64')"
            ]
          },
          "metadata": {},
          "execution_count": 86
        }
      ],
      "source": [
        "df[df[[\"MasVnrType\", \"MasVnrArea\"]].isnull().any(axis=1)].index"
      ]
    },
    {
      "cell_type": "markdown",
      "metadata": {
        "id": "K3M9QCXE0lgJ"
      },
      "source": [
        "Os oito registros nulos de cada atributo correspondem aos mesmo 8 em ambos, então deletaremos os registros."
      ]
    },
    {
      "cell_type": "code",
      "execution_count": 87,
      "metadata": {
        "id": "1H9vm8qB1E3_"
      },
      "outputs": [],
      "source": [
        "df = df.dropna(subset=[\"MasVnrType\", \"MasVnrArea\"])"
      ]
    },
    {
      "cell_type": "markdown",
      "metadata": {
        "id": "WXdgtHLx2HRS"
      },
      "source": [
        "Os mesmos critérios aplicados em **MasVnrType** e **MasVnrArea** também serão usados em **BsmtExposure**, **BsmtFinType1** e **BsmtFinType2**."
      ]
    },
    {
      "cell_type": "code",
      "execution_count": 88,
      "metadata": {
        "colab": {
          "base_uri": "https://localhost:8080/"
        },
        "id": "GaE9gJzR1ip8",
        "outputId": "5a6d9800-75ed-4c4d-a59b-51c03370bd68"
      },
      "outputs": [
        {
          "output_type": "execute_result",
          "data": {
            "text/plain": [
              "Int64Index([  17,   39,   90,  102,  156,  182,  259,  332,  342,  362,  371,\n",
              "             392,  520,  532,  533,  553,  646,  705,  736,  749,  778,  868,\n",
              "             894,  897,  948,  984, 1000, 1011, 1035, 1045, 1048, 1049, 1090,\n",
              "            1179, 1216, 1218, 1232, 1321, 1412],\n",
              "           dtype='int64')"
            ]
          },
          "metadata": {},
          "execution_count": 88
        }
      ],
      "source": [
        "df[df[[\"BsmtExposure\", \"BsmtFinType1\", \"BsmtFinType2\"]].isnull().any(axis=1)].index"
      ]
    },
    {
      "cell_type": "code",
      "execution_count": 89,
      "metadata": {
        "id": "qyWjP7wQ2af-"
      },
      "outputs": [],
      "source": [
        "df = df.dropna(subset=[\"BsmtExposure\", \"BsmtFinType1\", \"BsmtFinType2\"])"
      ]
    },
    {
      "cell_type": "markdown",
      "metadata": {
        "id": "p1RyTqln29Cf"
      },
      "source": [
        "Deletando registro com **Electrical**, **GarageType**, **GarageYrBlt** e **GarageFinish** nulos:"
      ]
    },
    {
      "cell_type": "code",
      "execution_count": 90,
      "metadata": {
        "id": "z6bvocw23B4s"
      },
      "outputs": [],
      "source": [
        "df = df.dropna(subset=[\"Electrical\", \"GarageType\", \"GarageYrBlt\", \"GarageFinish\"])"
      ]
    },
    {
      "cell_type": "code",
      "execution_count": 91,
      "metadata": {
        "colab": {
          "base_uri": "https://localhost:8080/"
        },
        "id": "n8L8jy-w2guM",
        "outputId": "c7c16e5d-d91f-4319-eb70-dfed6a2148ab"
      },
      "outputs": [
        {
          "output_type": "stream",
          "name": "stdout",
          "text": [
            "LotFrontage     244\n",
            "Alley          1257\n",
            "Fence          1077\n",
            "MiscFeature    1289\n",
            "dtype: int64\n"
          ]
        }
      ],
      "source": [
        "nulos_por_coluna = df.isnull().sum()\n",
        "nulos_por_coluna = nulos_por_coluna[nulos_por_coluna > 0]\n",
        "print(nulos_por_coluna)"
      ]
    },
    {
      "cell_type": "markdown",
      "metadata": {
        "id": "RGa5Kb6O4rJF"
      },
      "source": [
        "Os quatro atributos com NAN que sobraram serão excluídos na etapa de feature selection pois possuem baixa correlação com o target, como veremos a seguir."
      ]
    },
    {
      "cell_type": "markdown",
      "metadata": {
        "id": "m7UWpeGD335h"
      },
      "source": [
        "**Feature selection:**"
      ]
    },
    {
      "cell_type": "markdown",
      "metadata": {
        "id": "0OnmrWS95kAx"
      },
      "source": [
        "Atributos numéricos:\n",
        "\n",
        "Utilizaremos o método de cálculo da correlação de pearson. Serão incluídos atributos com correlação em valor absoluto maior que 0.4"
      ]
    },
    {
      "cell_type": "code",
      "execution_count": 92,
      "metadata": {
        "colab": {
          "base_uri": "https://localhost:8080/"
        },
        "id": "zzLSSRsvQQvl",
        "outputId": "f27f98ea-20fc-449f-d135-ccff706dc3d7"
      },
      "outputs": [
        {
          "output_type": "execute_result",
          "data": {
            "text/plain": [
              "LotFrontage      0.343978\n",
              "LotShape        -0.261992\n",
              "LandSlope        0.061629\n",
              "OverallQual      0.783546\n",
              "OverallCond     -0.108627\n",
              "YearBuilt        0.504297\n",
              "YearRemodAdd     0.501435\n",
              "MasVnrArea       0.465811\n",
              "ExterQual        0.669504\n",
              "ExterCond       -0.014200\n",
              "BsmtQual         0.643452\n",
              "BsmtCond         0.141028\n",
              "BsmtExposure     0.359809\n",
              "BsmtFinSF1       0.359677\n",
              "BsmtFinSF2      -0.031226\n",
              "BsmtUnfSF        0.191689\n",
              "TotalBsmtSF      0.602042\n",
              "HeatingQC        0.416404\n",
              "1stFlrSF         0.604714\n",
              "2ndFlrSF         0.311354\n",
              "LowQualFinSF    -0.009992\n",
              "GrLivArea        0.711706\n",
              "BsmtFullBath     0.209695\n",
              "BsmtHalfBath    -0.030175\n",
              "FullBath         0.569313\n",
              "HalfBath         0.258175\n",
              "BedroomAbvGr     0.169266\n",
              "KitchenAbvGr    -0.111408\n",
              "KitchenQual      0.650226\n",
              "TotRmsAbvGrd     0.551821\n",
              "Fireplaces       0.445434\n",
              "FireplaceQu      0.497192\n",
              "GarageYrBlt      0.481730\n",
              "GarageCars       0.640154\n",
              "GarageArea       0.607535\n",
              "GarageQual       0.160960\n",
              "GarageCond       0.121846\n",
              "WoodDeckSF       0.305983\n",
              "OpenPorchSF      0.322786\n",
              "EnclosedPorch   -0.127385\n",
              "3SsnPorch        0.042159\n",
              "ScreenPorch      0.096624\n",
              "PoolArea         0.091881\n",
              "PoolQC           0.112362\n",
              "MiscVal         -0.016990\n",
              "SalePrice        1.000000\n",
              "Name: SalePrice, dtype: float64"
            ]
          },
          "metadata": {},
          "execution_count": 92
        }
      ],
      "source": [
        "corr_cut = 0.4\n",
        "corr_matrix = df.corr()\n",
        "corr_col1 = corr_matrix['SalePrice']\n",
        "corr_cols_high = list(corr_col1[abs(corr_col1) > corr_cut].index) # Colunas com correlação maior que corr_cut\n",
        "corr_cols_low = list(corr_col1[abs(corr_col1) <= corr_cut].index) # Colunas com correlação menor ou igual a corr_cut\n",
        "corr_col1"
      ]
    },
    {
      "cell_type": "markdown",
      "metadata": {
        "id": "Rz8QUAXQ6YaO"
      },
      "source": [
        "Atributos categóricos:\n",
        "\n",
        "Utilizaremos o método de análise de variância (ANOVA). Serão incluídos atributos com valor maior que 30."
      ]
    },
    {
      "cell_type": "code",
      "execution_count": 93,
      "metadata": {
        "colab": {
          "base_uri": "https://localhost:8080/"
        },
        "id": "WVRUAt4PmG_C",
        "outputId": "3593a785-0e34-4211-ba89-dd89b3f7b7e5"
      },
      "outputs": [
        {
          "output_type": "stream",
          "name": "stdout",
          "text": [
            "MSSubClass: F=26.52, p-value=0.000\n",
            "MSZoning: F=38.84, p-value=0.000\n",
            "LotArea: F=4.04, p-value=0.000\n",
            "Street: F=2.37, p-value=0.124\n",
            "Alley: F=26.14, p-value=0.000\n",
            "LandContour: F=12.70, p-value=0.000\n",
            "Utilities: F=0.39, p-value=0.533\n",
            "LotConfig: F=6.85, p-value=0.000\n",
            "Neighborhood: F=60.89, p-value=0.000\n",
            "Condition1: F=5.08, p-value=0.000\n",
            "Condition2: F=2.01, p-value=0.051\n",
            "BldgType: F=8.74, p-value=0.000\n",
            "HouseStyle: F=16.79, p-value=0.000\n",
            "RoofStyle: F=17.00, p-value=0.000\n",
            "RoofMatl: F=6.47, p-value=0.000\n",
            "Exterior1st: F=19.49, p-value=0.000\n",
            "Exterior2nd: F=17.08, p-value=0.000\n",
            "MasVnrType: F=91.02, p-value=0.000\n",
            "Foundation: F=104.68, p-value=0.000\n",
            "BsmtFinType1: F=64.19, p-value=0.000\n",
            "BsmtFinType2: F=3.54, p-value=0.003\n",
            "Heating: F=1.54, p-value=0.204\n",
            "CentralAir: F=55.53, p-value=0.000\n",
            "Electrical: F=16.73, p-value=0.000\n",
            "Functional: F=3.52, p-value=0.002\n",
            "GarageType: F=67.01, p-value=0.000\n",
            "GarageFinish: F=236.66, p-value=0.000\n",
            "PavedDrive: F=22.83, p-value=0.000\n",
            "Fence: F=4.07, p-value=0.008\n",
            "MiscFeature: F=1.25, p-value=0.304\n",
            "MoSold: F=1.04, p-value=0.409\n",
            "YrSold: F=0.31, p-value=0.869\n",
            "SaleType: F=26.28, p-value=0.000\n",
            "SaleCondition: F=39.95, p-value=0.000\n"
          ]
        }
      ],
      "source": [
        "f_cut = 30\n",
        "# Cria uma lista com as colunas cujo f_value é maior que 3\n",
        "selected_categ_cols = []\n",
        "for col in df.select_dtypes(include='object'):\n",
        "    groups = df.groupby(col)['SalePrice'].apply(list)\n",
        "    f_value, p_value = f_oneway(*groups)\n",
        "    if f_value > f_cut:\n",
        "        selected_categ_cols.append(col)\n",
        "    print(f'{col}: F={f_value:.2f}, p-value={p_value:.3f}')"
      ]
    },
    {
      "cell_type": "markdown",
      "metadata": {
        "id": "27OvZoWqRCFi"
      },
      "source": [
        "*(O texto a seguir escrevi para entender melhor como interpretar os resultados da ANOVA)*\n",
        "\n",
        "**f_value** = variância das médias dos grupos / média das variâncias dentro dos grupos.\n",
        "\n",
        "Quanto maior f_value maior a relação do atributo com a formação do preço, pois maior variância das médias dos grupos implica maior diferença de preço entre os grupos, ao passo que quanto menor a média das variâncias dentro dos grupos maior é a especificidade de preço em cada grupo.\n",
        "\n",
        "Maximixando variância das médias dos grupos e minimizando média das variâncias dentro dos grupos, temos que f_value maiores são melhores.\n",
        "\n",
        "**p-value** representa a probabilidade dos resultados terem acontecido por acaso, portanto quanto menor melhor.\n",
        "\n",
        "\n",
        "**Obs.:** Na ANOVA dos dados, todos os atributos com **p-value > 0**  possuem  **f_value** pequeno."
      ]
    },
    {
      "cell_type": "markdown",
      "metadata": {
        "id": "9Vs1n78X-vlx"
      },
      "source": [
        "Aplicando OneHotEncoder nos atributos categóricos:"
      ]
    },
    {
      "cell_type": "code",
      "execution_count": 94,
      "metadata": {
        "id": "D_CAWjnC-ufz"
      },
      "outputs": [],
      "source": [
        "# Criando o objeto OneHotEncoder\n",
        "encoder = OneHotEncoder()\n",
        "\n",
        "# Ajustando e transformando os dados\n",
        "encoded_data = encoder.fit_transform(df[selected_categ_cols]).toarray()\n",
        "\n",
        "# Criando um DataFrame com os dados codificados\n",
        "encoded_df = pd.DataFrame(encoded_data, columns=encoder.get_feature_names_out(selected_categ_cols))\n",
        "\n",
        "# Redefinindo os valores de índice no DataFrame codificado\n",
        "encoded_df.index = df[selected_categ_cols].index.values"
      ]
    },
    {
      "cell_type": "markdown",
      "metadata": {
        "id": "8oK5UJpIjesH"
      },
      "source": [
        "Agora vamos juntar os atributos com correlação > 0.4 ou f_value > 30 em um único dataframe."
      ]
    },
    {
      "cell_type": "code",
      "execution_count": 95,
      "metadata": {
        "id": "1LFloVwyESqj"
      },
      "outputs": [],
      "source": [
        "# Cria um novo dataframe com as colunas selecionadas\n",
        "df_tratado = pd.concat([df[corr_cols_high], encoded_df], axis=1)\n",
        "\n",
        "df_tratado_padronizado = pd.DataFrame(StandardScaler().fit_transform(df_tratado), columns=df_tratado.columns)\n",
        "df_tratado_normalizado = pd.DataFrame(MinMaxScaler().fit_transform(df_tratado), columns=df_tratado.columns)"
      ]
    },
    {
      "cell_type": "code",
      "execution_count": 96,
      "metadata": {
        "colab": {
          "base_uri": "https://localhost:8080/"
        },
        "id": "S9ERdTdoBxlF",
        "outputId": "6bc7fe95-a66b-4417-c709-c5f83da141b7"
      },
      "outputs": [
        {
          "output_type": "stream",
          "name": "stdout",
          "text": [
            "Rechecagem: Total de valores nulos no dataframe final:  0\n"
          ]
        }
      ],
      "source": [
        "print(\"Rechecagem: Total de valores nulos no dataframe final: \", df_tratado.isnull().sum().sum())"
      ]
    },
    {
      "cell_type": "code",
      "execution_count": 97,
      "metadata": {
        "colab": {
          "base_uri": "https://localhost:8080/"
        },
        "id": "3jKilMGiESbL",
        "outputId": "01f5a687-81ff-4880-90b0-7fa58b7e87de"
      },
      "outputs": [
        {
          "output_type": "execute_result",
          "data": {
            "text/plain": [
              "(1338, 81)"
            ]
          },
          "metadata": {},
          "execution_count": 97
        }
      ],
      "source": [
        "df_tratado.shape"
      ]
    },
    {
      "cell_type": "markdown",
      "source": [
        "Após o processamento dos dados ficamos com um dataframe com 1338 registros.\n",
        "\n",
        "Após remover alguns atributos e aplicar OneHotEncoder em outros, coincidentemente ficamos com as mesmas 81 colunas iniciais."
      ],
      "metadata": {
        "id": "pwOvglfqi5DX"
      }
    },
    {
      "cell_type": "code",
      "execution_count": 98,
      "metadata": {
        "id": "OSUoktbHGvQr"
      },
      "outputs": [],
      "source": [
        "# Separar as colunas de entrada (X) e saída (Y)\n",
        "X = df_tratado.drop(['SalePrice'], axis=1)  # Colunas de entrada\n",
        "y = df_tratado['SalePrice']  # Coluna alvo/saída\n",
        "\n",
        "X_train, X_test, y_train, y_test = train_test_split(X, y, test_size=0.1, random_state=42)\n",
        "\n",
        "# Criando os folds para a validação cruzada\n",
        "scoring = 'mean_squared_error'\n",
        "num_particoes = 10 # número de folds da validação cruzada\n",
        "kfold = KFold(n_splits=num_particoes, shuffle=True, random_state=7) # faz o particionamento em 10 folds"
      ]
    },
    {
      "cell_type": "markdown",
      "metadata": {
        "id": "igYA-qOf4-xK"
      },
      "source": [
        "## Modelagem"
      ]
    },
    {
      "cell_type": "code",
      "execution_count": 23,
      "metadata": {
        "id": "ebJQ-Vaw5Dui",
        "colab": {
          "base_uri": "https://localhost:8080/",
          "height": 1000
        },
        "outputId": "7ba2f9b8-4ddc-4d72-9c0d-7c5676a419ba"
      },
      "outputs": [
        {
          "output_type": "stream",
          "name": "stdout",
          "text": [
            "LR-orig: MSE 1372380573.99 (766567466.00) - RMSE 37045.66\n",
            "Ridge-orig: MSE 1365590050.03 (777360712.82) - RMSE 36953.89\n",
            "Lasso-orig: MSE 1371834428.84 (767297929.81) - RMSE 37038.28\n",
            "KNN-orig: MSE 1892531676.47 (622310750.22) - RMSE 43503.24\n",
            "CART-orig: MSE 2036628275.87 (894807300.25) - RMSE 45129.02\n",
            "RF-orig: MSE 1004434891.73 (501165310.15) - RMSE 31692.82\n",
            "GB-orig: MSE 881577801.33 (515722607.90) - RMSE 29691.38\n",
            "AB-orig: MSE 1347590377.14 (549989485.02) - RMSE 36709.54\n",
            "ET-orig: MSE 910553141.74 (470320418.96) - RMSE 30175.37\n",
            "MLP-orig: MSE 2930717704.70 (795348363.59) - RMSE 54136.10\n",
            "Ridge-padr: MSE 1370574628.60 (764200678.30) - RMSE 37021.27\n",
            "Lasso-padr: MSE 1371910304.49 (766855589.52) - RMSE 37039.31\n",
            "KNN-padr: MSE 1730647030.85 (511506800.96) - RMSE 41601.05\n",
            "CART-padr: MSE 1769099528.32 (688357651.87) - RMSE 42060.66\n",
            "RF-padr: MSE 1029722451.03 (478342389.79) - RMSE 32089.29\n",
            "GB-padr: MSE 903557609.37 (512765497.24) - RMSE 30059.24\n",
            "AB-padr: MSE 1286184122.15 (564061929.85) - RMSE 35863.41\n",
            "ET-padr: MSE 892404016.72 (464048833.32) - RMSE 29873.13\n",
            "Ridge-norm: MSE 1319620269.28 (661773472.51) - RMSE 36326.58\n",
            "Lasso-norm: MSE 1370925606.85 (765616142.19) - RMSE 37026.01\n",
            "KNN-norm: MSE 2054574149.56 (639613211.17) - RMSE 45327.41\n",
            "CART-norm: MSE 1783981657.09 (626512229.87) - RMSE 42237.21\n",
            "RF-norm: MSE 1062521754.55 (530156628.45) - RMSE 32596.35\n",
            "GB-norm: MSE 903493755.11 (519840013.24) - RMSE 30058.17\n",
            "AB-norm: MSE 1363372726.12 (585335529.78) - RMSE 36923.88\n",
            "ET-norm: MSE 888448891.14 (432085196.20) - RMSE 29806.86\n"
          ]
        },
        {
          "output_type": "display_data",
          "data": {
            "text/plain": [
              "<Figure size 2500x600 with 1 Axes>"
            ],
            "image/png": "[encoded data removed]"
          },
          "metadata": {}
        }
      ],
      "source": [
        "np.random.seed(42) # definindo uma semente global para este bloco\n",
        "\n",
        "# Listas para armazenar os armazenar os pipelines e os resultados para todas as visões do dataset\n",
        "pipelines = []\n",
        "results = []\n",
        "names = []\n",
        "\n",
        "# Criando os elementos do pipeline\n",
        "\n",
        "# Algoritmos que serão utilizados\n",
        "lin_reg = ('LR', LinearRegression())\n",
        "ridge = ('Ridge', Ridge())\n",
        "lasso = ('Lasso', Lasso())\n",
        "knn = ('KNN', KNeighborsRegressor())\n",
        "decision_tree = ('CART', DecisionTreeRegressor())\n",
        "svr = ('SVM', SVR())\n",
        "random_forest = ('RF', RandomForestRegressor())\n",
        "gradient_boost = ('GB', GradientBoostingRegressor())\n",
        "ada_boost= ('AB', AdaBoostRegressor())\n",
        "extra_trees= ('ET', ExtraTreesRegressor())\n",
        "multi_layer_perceptron= ('MLP', MLPRegressor())\n",
        "\n",
        "# Transformações que serão utilizadas\n",
        "standard_scaler = ('StandardScaler', StandardScaler())\n",
        "min_max_scaler = ('MinMaxScaler', MinMaxScaler())\n",
        "\n",
        "# Montando os pipelines\n",
        "\n",
        "# Dataset original\n",
        "pipelines.append(('LR-orig', Pipeline([lin_reg])))\n",
        "pipelines.append(('Ridge-orig', Pipeline([ridge])))\n",
        "pipelines.append(('Lasso-orig', Pipeline([lasso])))\n",
        "pipelines.append(('KNN-orig', Pipeline([knn])))\n",
        "pipelines.append(('CART-orig', Pipeline([decision_tree])))\n",
        "#pipelines.append(('SVM-orig', Pipeline([svr]))) SVM foi removido pois errou por muito as previsões atrapalhando a visualização gráfica dos resultados\n",
        "pipelines.append(('RF-orig', Pipeline([random_forest])))\n",
        "pipelines.append(('GB-orig', Pipeline([gradient_boost])))\n",
        "pipelines.append(('AB-orig', Pipeline([ada_boost])))\n",
        "pipelines.append(('ET-orig', Pipeline([extra_trees])))\n",
        "pipelines.append(('MLP-orig', Pipeline([multi_layer_perceptron])))\n",
        "\n",
        "# Dataset Padronizado\n",
        "#pipelines.append(('LR-padr', Pipeline([standard_scaler, lin_reg]))) LR-padr foi removido pois errou por muito as previsões\n",
        "pipelines.append(('Ridge-padr', Pipeline([standard_scaler, ridge])))\n",
        "pipelines.append(('Lasso-padr', Pipeline([standard_scaler, lasso])))\n",
        "pipelines.append(('KNN-padr', Pipeline([standard_scaler, knn])))\n",
        "pipelines.append(('CART-padr', Pipeline([standard_scaler, decision_tree])))\n",
        "#pipelines.append(('SVM-padr', Pipeline([standard_scaler, svr]))) SVM-padr foi removido pois errou por muito as previsões\n",
        "pipelines.append(('RF-padr', Pipeline([standard_scaler, random_forest])))\n",
        "pipelines.append(('GB-padr', Pipeline([standard_scaler, gradient_boost])))\n",
        "pipelines.append(('AB-padr', Pipeline([standard_scaler, ada_boost])))\n",
        "pipelines.append(('ET-padr', Pipeline([standard_scaler, extra_trees])))\n",
        "#pipelines.append(('MLP-padr', Pipeline([standard_scaler, multi_layer_perceptron]))) MLP-padr foi removido pois errou por muito as previsões\n",
        "\n",
        "# Dataset Normalizado\n",
        "#pipelines.append(('LR-norm', Pipeline([min_max_scaler, lin_reg]))) LR-norm foi removido pois errou por muito as previsões\n",
        "pipelines.append(('Ridge-norm', Pipeline([min_max_scaler, ridge])))\n",
        "pipelines.append(('Lasso-norm', Pipeline([min_max_scaler, lasso])))\n",
        "pipelines.append(('KNN-norm', Pipeline([min_max_scaler, knn])))\n",
        "pipelines.append(('CART-norm', Pipeline([min_max_scaler, decision_tree])))\n",
        "#pipelines.append(('SVM-norm', Pipeline([min_max_scaler, svr]))) SVM-norm foi removido pois errou por muito as previsões\n",
        "pipelines.append(('RF-norm', Pipeline([min_max_scaler, random_forest])))\n",
        "pipelines.append(('GB-norm', Pipeline([min_max_scaler, gradient_boost])))\n",
        "pipelines.append(('AB-norm', Pipeline([min_max_scaler, ada_boost])))\n",
        "pipelines.append(('ET-norm', Pipeline([min_max_scaler, extra_trees])))\n",
        "#pipelines.append(('MLP-norm', Pipeline([min_max_scaler, multi_layer_perceptron]))) MLP-norm foi removido pois errou por muito as previsões\n",
        "\n",
        "# Executando os pipelines\n",
        "for name, model in pipelines:\n",
        "    cv_results = cross_val_score(model, X_train, y_train, cv=kfold, scoring=\"neg_mean_squared_error\")\n",
        "    results.append(cv_results)\n",
        "    names.append(name)\n",
        "    msg = \"%s: MSE %0.2f (%0.2f) - RMSE %0.2f\" % (name, abs(cv_results.mean()), cv_results.std(), np.sqrt(abs(cv_results.mean())))\n",
        "    print(msg)\n",
        "\n",
        "\n",
        "# Boxplot de comparação dos modelos\n",
        "fig = plt.figure(figsize=(25,6))\n",
        "fig.suptitle('Comparação dos Modelos - Dataset orginal, padronizado e normalizado')\n",
        "ax = fig.add_subplot(111)\n",
        "plt.boxplot(results)\n",
        "ax.set_xticklabels(names, rotation=90)\n",
        "plt.show()"
      ]
    },
    {
      "cell_type": "markdown",
      "metadata": {
        "id": "NNEIjBUa8GF6"
      },
      "source": [
        "Grid search no gradient boost:"
      ]
    },
    {
      "cell_type": "code",
      "execution_count": 29,
      "metadata": {
        "id": "hd_y0pDQ5DmQ",
        "colab": {
          "base_uri": "https://localhost:8080/"
        },
        "outputId": "89072f72-c5a1-4e0b-e679-7d77d619c87e"
      },
      "outputs": [
        {
          "output_type": "stream",
          "name": "stdout",
          "text": [
            "GB-orig - Melhor: 28625.285909 usando {'GB__learning_rate': 0.01, 'GB__max_depth': 3, 'GB__n_estimators': 2000, 'GB__subsample': 0.7}\n",
            "gb-padr - Melhor: 28658.842937 usando {'GB__learning_rate': 0.01, 'GB__max_depth': 3, 'GB__n_estimators': 2000, 'GB__subsample': 0.7}\n"
          ]
        }
      ],
      "source": [
        "# Tuning do GB\n",
        "\n",
        "np.random.seed(42)\n",
        "\n",
        "pipelines = []\n",
        "\n",
        "# Definindo os componentes do pipeline\n",
        "gradient_boost = ('GB', GradientBoostingRegressor())\n",
        "standard_scaler = ('StandardScaler', StandardScaler())\n",
        "min_max_scaler = ('MinMaxScaler', MinMaxScaler())\n",
        "\n",
        "pipelines.append(('GB-orig', Pipeline(steps=[gradient_boost])))\n",
        "pipelines.append(('gb-padr', Pipeline(steps=[standard_scaler, gradient_boost])))\n",
        "#pipelines.append(('gb-norm', Pipeline(steps=[min_max_scaler, gradient_boost])))\n",
        "\n",
        "param_grid = {\n",
        "    \"GB__n_estimators\":[ 1000, 2000, 4000],\n",
        "    \"GB__learning_rate\": [0.01, 0.1],\n",
        "    \"GB__subsample\": [0.3, 0.5, 0.7],\n",
        "    \"GB__max_depth\": [1, 3, 5]\n",
        "    }\n",
        "\n",
        "\n",
        "# Prepara e executa o GridSearchCV\n",
        "for name, model in pipelines:\n",
        "    grid = GridSearchCV(estimator=model, param_grid=param_grid, scoring=\"neg_mean_squared_error\", cv=kfold)\n",
        "    grid.fit(X_train, y_train)\n",
        "\n",
        "    # imprime a melhor configuração\n",
        "    print(\"%s - Melhor: %f usando %s\" % (name, np.sqrt(abs(grid.best_score_)), grid.best_params_))"
      ]
    },
    {
      "cell_type": "markdown",
      "source": [
        "No grid search acima, a abrangência dos hiperparâmetros foi reajustada sempre que o melhor resultado era encontrado em algum valor na ponta (exemplo: [ponta, x, y, z, ponta]).\n",
        "\n",
        "Utilizar uma variação muito grande de hiperparâmetros era inviável pois o treinamento demorava tempo demais.\n",
        "\n",
        "A versão 'gb-norm' foi excluída do GridSearchCV pois após algumas execuções deste constatou-se que a versão normalizada nunca era melhor que a original ou a padronizada, e acabava aumentando significativamente o tempo de execução da célula.\n",
        "\n",
        "\n",
        "O conjunto completo de configurações testadas de hiperparâmetros foi:\n",
        "\n",
        "GB__n_estimators:[10, 50, 100, 500, 1000, 2000]\n",
        "\n",
        "GB__learning_rate: [0.0001, 0.001, 0.01, 0.1, 1.0]\n",
        "\n",
        "GB__subsample: [0.3, 0.5, 0.7, 1.0]\n",
        "\n",
        "GB__max_depth: [1, 3, 7, 9]\n",
        "\n"
      ],
      "metadata": {
        "id": "LaxnUPnyGPyw"
      }
    },
    {
      "cell_type": "code",
      "source": [
        "# O melhor modeloGridSearchCV\n",
        "best_model = grid.best_estimator_"
      ],
      "metadata": {
        "id": "e6XOh53pDrke"
      },
      "execution_count": 30,
      "outputs": []
    },
    {
      "cell_type": "markdown",
      "source": [
        "## Resultado"
      ],
      "metadata": {
        "id": "7mJNRQVg3-h8"
      }
    },
    {
      "cell_type": "code",
      "execution_count": 31,
      "metadata": {
        "id": "D8Exh-o784dp"
      },
      "outputs": [],
      "source": [
        "y_pred = best_model.predict(X_test)"
      ]
    },
    {
      "cell_type": "code",
      "source": [
        "print(\"A média do target nos valores de teste é\", round(y_test.mean()), \"contra\", round(y_train.mean()), \"do grupo de treino.\")\n",
        "print(\"O erro absoluto do teste ficou em\", round(mean_absolute_error(y_test, y_pred)), \"contra 28658 do treino.\")"
      ],
      "metadata": {
        "colab": {
          "base_uri": "https://localhost:8080/"
        },
        "id": "tOMApnsSutm6",
        "outputId": "ae0586ce-516c-47f7-8e21-7d58a37c3332"
      },
      "execution_count": 109,
      "outputs": [
        {
          "output_type": "stream",
          "name": "stdout",
          "text": [
            "A média do target nos valores de teste é 179175 contra 187606 do grupo de treino.\n",
            "O erro absoluto do teste ficou em 18372 contra 28658 do treino.\n"
          ]
        }
      ]
    },
    {
      "cell_type": "markdown",
      "source": [
        "Ou seja, o modelo performou melhor no teste que no treino."
      ],
      "metadata": {
        "id": "0KBxHFqnw0nR"
      }
    },
    {
      "cell_type": "markdown",
      "source": [
        "Abaixo prepararemos os dados para organizar a visualização dos dados de previsão do modelo na base de teste."
      ],
      "metadata": {
        "id": "1sL2d3uq3NtZ"
      }
    },
    {
      "cell_type": "code",
      "source": [
        "df_test_prev = pd.DataFrame()\n",
        "df_test_prev['test'] = pd.DataFrame(y_test)\n",
        "df_test_prev['prev'] = y_pred\n",
        "\n",
        "df_test_prev_sorted = df_test_prev.sort_values(by='test')\n",
        "df_test_prev_sorted = df_test_prev_sorted.reset_index(drop=False)"
      ],
      "metadata": {
        "id": "fFo9RxOtyAgn"
      },
      "execution_count": 133,
      "outputs": []
    },
    {
      "cell_type": "code",
      "source": [
        "fig = plt.figure(figsize=(25,6))\n",
        "\n",
        "# Plotar a coluna 'test' como linha e a coluna 'prev' como pontos\n",
        "plt.plot(df_test_prev_sorted.index, df_test_prev_sorted['test'], label='target test')\n",
        "plt.scatter(df_test_prev_sorted.index, df_test_prev_sorted['prev'], color='red', label='target prev')\n",
        "\n",
        "plt.legend() # Adicionar legenda\n",
        "plt.xlabel('Index no dataframe original') # Adiciona label ao eixo x\n",
        "plt.ylabel('Valor de venda') # Adiciona label ao eixo y\n",
        "plt.title('Visualização dos valores reais de venda em ordem crescente e os respectivos valores previstos pelo GradientBoostingRegressor') # Adicionar um título ao gráfico\n",
        "plt.xticks(df_test_prev_sorted.index, df_test_prev.index, rotation=90) # Definir o índice como rótulos nominais no eixo x\n",
        "plt.ylim(0) # Definir o limite mínimo do eixo y para 0\n",
        "plt.show() # Exibir o gráfico"
      ],
      "metadata": {
        "colab": {
          "base_uri": "https://localhost:8080/",
          "height": 483
        },
        "id": "y0iMuk-lyZDu",
        "outputId": "849dad7d-f708-45ec-b85f-93007d8506ad"
      },
      "execution_count": 147,
      "outputs": [
        {
          "output_type": "display_data",
          "data": {
            "text/plain": [
              "<Figure size 2500x600 with 1 Axes>"
            ],
            "image/png": "[encoded data removed]"
          },
          "metadata": {}
        }
      ]
    },
    {
      "cell_type": "markdown",
      "source": [
        "Conclusão:\n",
        "\n",
        "Ao analisar o resultado do modelo, devemos levar em consideração que o valor de venda de um imóvel é parcialmente subjetivo, ou seja, depende da avaliação pessoal de valor de quem vende e quem compra. Dito isso, era de se esperar alguma dispersão entre o valor de venda real e o previsto, e que o algoritmo funcionasse como uma referência de tendência do preço. Podemos ver no gráfico postado acima que os valores previstos orbitam próximo ao valor real, como desejado, e que a dispersão média fica próxima de 10%, indicando um bom desempenho."
      ],
      "metadata": {
        "id": "FwyRN5y23k43"
      }
    },
    {
      "cell_type": "markdown",
      "metadata": {
        "id": "u9ZNEROYLC3w"
      },
      "source": [
        "# Modelo 2: Deep Learning"
      ]
    },
    {
      "cell_type": "markdown",
      "metadata": {
        "id": "D_-PAanl9nWP"
      },
      "source": [
        "O dataset foi extraído do [Kaggle](https://www.kaggle.com/datasets/arnabchaki/tripadvisor-reviews-2023) e consiste em quase 150 mil reviews retiradas do Tripadvisor.\n",
        "\n",
        "O objetivo deste notebook será tentar criar um modelo de deep learning capaz de adivinhar a nota(rating) de 1 a 5 do review com base no texto deste.\n",
        "\n",
        "Existe certa subjetividade nesta tarefa, como reviews idênticas receberem notas diferentes por questões pessoais de cada usuário, portanto será analisado não somente a precisão de acertos, como também a proximidade da nota prevista com a nota de fato. Para tal, serão utilizadas as métricas de **accuracy** e **MeanSquaredError**.\n"
      ]
    },
    {
      "cell_type": "markdown",
      "source": [
        "## Análise e tratamento dos dados"
      ],
      "metadata": {
        "id": "35B-B_ZZWIHJ"
      }
    },
    {
      "cell_type": "code",
      "source": [
        "#df = pd.read_csv('/content/drive/MyDrive/PÓS CD E IA/MVP ML e IA/New_Delhi_reviews.csv', dtype = {'rating_review': float, 'review_full': str})\n",
        "df = pd.read_csv('https://github.com/dankrelium/Pos-Graduacao/releases/download/New_Delhi_reviews/New_Delhi_reviews.csv', dtype = {'rating_review': float, 'review_full': str})"
      ],
      "metadata": {
        "id": "URNDzJVz8BSw"
      },
      "execution_count": 150,
      "outputs": []
    },
    {
      "cell_type": "code",
      "execution_count": 151,
      "metadata": {
        "colab": {
          "base_uri": "https://localhost:8080/",
          "height": 0
        },
        "id": "itaa73sfJvXq",
        "outputId": "fa746e6e-6d2a-47be-85ea-1e0de58226e3"
      },
      "outputs": [
        {
          "output_type": "execute_result",
          "data": {
            "text/plain": [
              "   rating_review                                        review_full\n",
              "0            5.0  Totally in love with the Auro of the place, re...\n",
              "1            5.0  I went this bar 8 days regularly with my husba...\n",
              "2            5.0  We were few friends and was a birthday celebra...\n",
              "3            5.0  Fatjar Cafe and Market is the perfect place fo...\n",
              "4            5.0  Hey Guys, if you are craving for pizza and sea..."
            ],
            "text/html": [
              "\n",
              "\n",
              "  <div id=\"df-15b02c5e-7d18-4bf6-bd86-a0eb138ad757\">\n",
              "    <div class=\"colab-df-container\">\n",
              "      <div>\n",
              "<style scoped>\n",
              "    .dataframe tbody tr th:only-of-type {\n",
              "        vertical-align: middle;\n",
              "    }\n",
              "\n",
              "    .dataframe tbody tr th {\n",
              "        vertical-align: top;\n",
              "    }\n",
              "\n",
              "    .dataframe thead th {\n",
              "        text-align: right;\n",
              "    }\n",
              "</style>\n",
              "<table border=\"1\" class=\"dataframe\">\n",
              "  <thead>\n",
              "    <tr style=\"text-align: right;\">\n",
              "      <th></th>\n",
              "      <th>rating_review</th>\n",
              "      <th>review_full</th>\n",
              "    </tr>\n",
              "  </thead>\n",
              "  <tbody>\n",
              "    <tr>\n",
              "      <th>0</th>\n",
              "      <td>5.0</td>\n",
              "      <td>Totally in love with the Auro of the place, re...</td>\n",
              "    </tr>\n",
              "    <tr>\n",
              "      <th>1</th>\n",
              "      <td>5.0</td>\n",
              "      <td>I went this bar 8 days regularly with my husba...</td>\n",
              "    </tr>\n",
              "    <tr>\n",
              "      <th>2</th>\n",
              "      <td>5.0</td>\n",
              "      <td>We were few friends and was a birthday celebra...</td>\n",
              "    </tr>\n",
              "    <tr>\n",
              "      <th>3</th>\n",
              "      <td>5.0</td>\n",
              "      <td>Fatjar Cafe and Market is the perfect place fo...</td>\n",
              "    </tr>\n",
              "    <tr>\n",
              "      <th>4</th>\n",
              "      <td>5.0</td>\n",
              "      <td>Hey Guys, if you are craving for pizza and sea...</td>\n",
              "    </tr>\n",
              "  </tbody>\n",
              "</table>\n",
              "</div>\n",
              "      <button class=\"colab-df-convert\" onclick=\"convertToInteractive('df-15b02c5e-7d18-4bf6-bd86-a0eb138ad757')\"\n",
              "              title=\"Convert this dataframe to an interactive table.\"\n",
              "              style=\"display:none;\">\n",
              "\n",
              "  <svg xmlns=\"http://www.w3.org/2000/svg\" height=\"24px\"viewBox=\"0 0 24 24\"\n",
              "       width=\"24px\">\n",
              "    <path d=\"M0 0h24v24H0V0z\" fill=\"none\"/>\n",
              "    <path d=\"M18.56 5.44l.94 2.06.94-2.06 2.06-.94-2.06-.94-.94-2.06-.94 2.06-2.06.94zm-11 1L8.5 8.5l.94-2.06 2.06-.94-2.06-.94L8.5 2.5l-.94 2.06-2.06.94zm10 10l.94 2.06.94-2.06 2.06-.94-2.06-.94-.94-2.06-.94 2.06-2.06.94z\"/><path d=\"M17.41 7.96l-1.37-1.37c-.4-.4-.92-.59-1.43-.59-.52 0-1.04.2-1.43.59L10.3 9.45l-7.72 7.72c-.78.78-.78 2.05 0 2.83L4 21.41c.39.39.9.59 1.41.59.51 0 1.02-.2 1.41-.59l7.78-7.78 2.81-2.81c.8-.78.8-2.07 0-2.86zM5.41 20L4 18.59l7.72-7.72 1.47 1.35L5.41 20z\"/>\n",
              "  </svg>\n",
              "      </button>\n",
              "\n",
              "\n",
              "\n",
              "    <div id=\"df-a6fe5473-226b-47f8-9c31-211672b3a9d8\">\n",
              "      <button class=\"colab-df-quickchart\" onclick=\"quickchart('df-a6fe5473-226b-47f8-9c31-211672b3a9d8')\"\n",
              "              title=\"Suggest charts.\"\n",
              "              style=\"display:none;\">\n",
              "\n",
              "<svg xmlns=\"http://www.w3.org/2000/svg\" height=\"24px\"viewBox=\"0 0 24 24\"\n",
              "     width=\"24px\">\n",
              "    <g>\n",
              "        <path d=\"M19 3H5c-1.1 0-2 .9-2 2v14c0 1.1.9 2 2 2h14c1.1 0 2-.9 2-2V5c0-1.1-.9-2-2-2zM9 17H7v-7h2v7zm4 0h-2V7h2v10zm4 0h-2v-4h2v4z\"/>\n",
              "    </g>\n",
              "</svg>\n",
              "      </button>\n",
              "    </div>\n",
              "\n",
              "<style>\n",
              "  .colab-df-quickchart {\n",
              "    background-color: #E8F0FE;\n",
              "    border: none;\n",
              "    border-radius: 50%;\n",
              "    cursor: pointer;\n",
              "    display: none;\n",
              "    fill: #1967D2;\n",
              "    height: 32px;\n",
              "    padding: 0 0 0 0;\n",
              "    width: 32px;\n",
              "  }\n",
              "\n",
              "  .colab-df-quickchart:hover {\n",
              "    background-color: #E2EBFA;\n",
              "    box-shadow: 0px 1px 2px rgba(60, 64, 67, 0.3), 0px 1px 3px 1px rgba(60, 64, 67, 0.15);\n",
              "    fill: #174EA6;\n",
              "  }\n",
              "\n",
              "  [theme=dark] .colab-df-quickchart {\n",
              "    background-color: #3B4455;\n",
              "    fill: #D2E3FC;\n",
              "  }\n",
              "\n",
              "  [theme=dark] .colab-df-quickchart:hover {\n",
              "    background-color: #434B5C;\n",
              "    box-shadow: 0px 1px 3px 1px rgba(0, 0, 0, 0.15);\n",
              "    filter: drop-shadow(0px 1px 2px rgba(0, 0, 0, 0.3));\n",
              "    fill: #FFFFFF;\n",
              "  }\n",
              "</style>\n",
              "\n",
              "    <script>\n",
              "      async function quickchart(key) {\n",
              "        const containerElement = document.querySelector('#' + key);\n",
              "        const charts = await google.colab.kernel.invokeFunction(\n",
              "            'suggestCharts', [key], {});\n",
              "      }\n",
              "    </script>\n",
              "\n",
              "      <script>\n",
              "\n",
              "function displayQuickchartButton(domScope) {\n",
              "  let quickchartButtonEl =\n",
              "    domScope.querySelector('#df-a6fe5473-226b-47f8-9c31-211672b3a9d8 button.colab-df-quickchart');\n",
              "  quickchartButtonEl.style.display =\n",
              "    google.colab.kernel.accessAllowed ? 'block' : 'none';\n",
              "}\n",
              "\n",
              "        displayQuickchartButton(document);\n",
              "      </script>\n",
              "      <style>\n",
              "    .colab-df-container {\n",
              "      display:flex;\n",
              "      flex-wrap:wrap;\n",
              "      gap: 12px;\n",
              "    }\n",
              "\n",
              "    .colab-df-convert {\n",
              "      background-color: #E8F0FE;\n",
              "      border: none;\n",
              "      border-radius: 50%;\n",
              "      cursor: pointer;\n",
              "      display: none;\n",
              "      fill: #1967D2;\n",
              "      height: 32px;\n",
              "      padding: 0 0 0 0;\n",
              "      width: 32px;\n",
              "    }\n",
              "\n",
              "    .colab-df-convert:hover {\n",
              "      background-color: #E2EBFA;\n",
              "      box-shadow: 0px 1px 2px rgba(60, 64, 67, 0.3), 0px 1px 3px 1px rgba(60, 64, 67, 0.15);\n",
              "      fill: #174EA6;\n",
              "    }\n",
              "\n",
              "    [theme=dark] .colab-df-convert {\n",
              "      background-color: #3B4455;\n",
              "      fill: #D2E3FC;\n",
              "    }\n",
              "\n",
              "    [theme=dark] .colab-df-convert:hover {\n",
              "      background-color: #434B5C;\n",
              "      box-shadow: 0px 1px 3px 1px rgba(0, 0, 0, 0.15);\n",
              "      filter: drop-shadow(0px 1px 2px rgba(0, 0, 0, 0.3));\n",
              "      fill: #FFFFFF;\n",
              "    }\n",
              "  </style>\n",
              "\n",
              "      <script>\n",
              "        const buttonEl =\n",
              "          document.querySelector('#df-15b02c5e-7d18-4bf6-bd86-a0eb138ad757 button.colab-df-convert');\n",
              "        buttonEl.style.display =\n",
              "          google.colab.kernel.accessAllowed ? 'block' : 'none';\n",
              "\n",
              "        async function convertToInteractive(key) {\n",
              "          const element = document.querySelector('#df-15b02c5e-7d18-4bf6-bd86-a0eb138ad757');\n",
              "          const dataTable =\n",
              "            await google.colab.kernel.invokeFunction('convertToInteractive',\n",
              "                                                     [key], {});\n",
              "          if (!dataTable) return;\n",
              "\n",
              "          const docLinkHtml = 'Like what you see? Visit the ' +\n",
              "            '<a target=\"_blank\" href=https://colab.research.google.com/notebooks/data_table.ipynb>data table notebook</a>'\n",
              "            + ' to learn more about interactive tables.';\n",
              "          element.innerHTML = '';\n",
              "          dataTable['output_type'] = 'display_data';\n",
              "          await google.colab.output.renderOutput(dataTable, element);\n",
              "          const docLink = document.createElement('div');\n",
              "          docLink.innerHTML = docLinkHtml;\n",
              "          element.appendChild(docLink);\n",
              "        }\n",
              "      </script>\n",
              "    </div>\n",
              "  </div>\n"
            ]
          },
          "metadata": {},
          "execution_count": 151
        }
      ],
      "source": [
        "df.head()"
      ]
    },
    {
      "cell_type": "code",
      "execution_count": 152,
      "metadata": {
        "id": "ft9914ZSKzxz"
      },
      "outputs": [],
      "source": [
        "df = df.dropna() # exclui registros sem avaliação escrita ou nota"
      ]
    },
    {
      "cell_type": "code",
      "execution_count": 153,
      "metadata": {
        "colab": {
          "base_uri": "https://localhost:8080/"
        },
        "id": "E5AujwuMJSxP",
        "outputId": "07d0eb70-51b0-464e-cbfc-ac26e9513c31"
      },
      "outputs": [
        {
          "output_type": "execute_result",
          "data": {
            "text/plain": [
              "rating_review    False\n",
              "review_full      False\n",
              "dtype: bool"
            ]
          },
          "metadata": {},
          "execution_count": 153
        }
      ],
      "source": [
        "df.isnull().any() # Verifica se há valores nulos"
      ]
    },
    {
      "cell_type": "code",
      "source": [
        "df.shape"
      ],
      "metadata": {
        "colab": {
          "base_uri": "https://localhost:8080/"
        },
        "id": "lR7VMtM8kcJ9",
        "outputId": "4bae2199-fc98-4124-f276-d04f5037d941"
      },
      "execution_count": 154,
      "outputs": [
        {
          "output_type": "execute_result",
          "data": {
            "text/plain": [
              "(147579, 2)"
            ]
          },
          "metadata": {},
          "execution_count": 154
        }
      ]
    },
    {
      "cell_type": "code",
      "execution_count": 155,
      "metadata": {
        "colab": {
          "base_uri": "https://localhost:8080/"
        },
        "id": "1QLT2TGGRtJt",
        "outputId": "60fb0ed6-4544-433a-a539-2966487b1f03"
      },
      "outputs": [
        {
          "output_type": "execute_result",
          "data": {
            "text/plain": [
              "rating_review    float64\n",
              "review_full       object\n",
              "dtype: object"
            ]
          },
          "metadata": {},
          "execution_count": 155
        }
      ],
      "source": [
        "df.dtypes"
      ]
    },
    {
      "cell_type": "code",
      "execution_count": 156,
      "metadata": {
        "colab": {
          "base_uri": "https://localhost:8080/",
          "height": 0
        },
        "id": "MmcpwqpOXbIn",
        "outputId": "0296554a-a325-4620-a5f9-67178089182e"
      },
      "outputs": [
        {
          "output_type": "display_data",
          "data": {
            "text/plain": [
              "<Figure size 400x400 with 1 Axes>"
            ],
            "image/png": "[encoded data removed]"
          },
          "metadata": {}
        }
      ],
      "source": [
        "# Agrupar e contar o número de ocorrências por categoria\n",
        "counts = df['rating_review'].value_counts()\n",
        "\n",
        "# Plotar o gráfico de pizza\n",
        "plt.figure(figsize=(4, 4))  # Define o tamanho da figura\n",
        "plt.pie(counts, labels=counts.index, autopct='%1.1f%%')\n",
        "plt.axis('equal')  # Para criar um círculo perfeito\n",
        "plt.title('Contagem por Categoria')\n",
        "plt.show()"
      ]
    },
    {
      "cell_type": "code",
      "source": [
        "plt.figure(figsize=(8, 2))\n",
        "plt.hist(df['review_full'].str.len(), bins=10, alpha=0.5)\n",
        "plt.xlabel('Comprimento')\n",
        "plt.ylabel('Frequência')\n",
        "plt.title('Distribuição do Comprimento das Strings')\n",
        "plt.show()"
      ],
      "metadata": {
        "id": "MfEUUKM-8tEo",
        "colab": {
          "base_uri": "https://localhost:8080/",
          "height": 0
        },
        "outputId": "7a407ceb-c964-4175-c54c-302a90ceb03f"
      },
      "execution_count": 157,
      "outputs": [
        {
          "output_type": "display_data",
          "data": {
            "text/plain": [
              "<Figure size 800x200 with 1 Axes>"
            ],
            "image/png": "[encoded data removed]"
          },
          "metadata": {}
        }
      ]
    },
    {
      "cell_type": "markdown",
      "source": [
        "Excluiremos os registros cujos reviews possuem mais de 2000 caracteres para reduzir o uso de GPU, memória e tempo de processamento."
      ],
      "metadata": {
        "id": "eEK3WXa-opD5"
      }
    },
    {
      "cell_type": "code",
      "source": [
        "df = df[df['review_full'].str.len() <= 2000]"
      ],
      "metadata": {
        "id": "yehVUCwIoEjf"
      },
      "execution_count": 158,
      "outputs": []
    },
    {
      "cell_type": "code",
      "source": [
        "df.shape"
      ],
      "metadata": {
        "colab": {
          "base_uri": "https://localhost:8080/"
        },
        "id": "JT2el12coNjM",
        "outputId": "144756c3-1184-4169-b670-573f14d12464"
      },
      "execution_count": 159,
      "outputs": [
        {
          "output_type": "execute_result",
          "data": {
            "text/plain": [
              "(145409, 2)"
            ]
          },
          "metadata": {},
          "execution_count": 159
        }
      ]
    },
    {
      "cell_type": "code",
      "source": [
        "plt.figure(figsize=(8, 2))\n",
        "plt.hist(df['review_full'].str.len(), bins=10, alpha=0.5)\n",
        "plt.xlabel('Comprimento')\n",
        "plt.ylabel('Frequência')\n",
        "plt.title('Distribuição do Comprimento das Strings com até 2000 caracteres')\n",
        "plt.show()"
      ],
      "metadata": {
        "colab": {
          "base_uri": "https://localhost:8080/",
          "height": 0
        },
        "id": "R1XLb5dnoQj5",
        "outputId": "f254df82-950a-47c5-cc9a-fd7cab7f3412"
      },
      "execution_count": 160,
      "outputs": [
        {
          "output_type": "display_data",
          "data": {
            "text/plain": [
              "<Figure size 800x200 with 1 Axes>"
            ],
            "image/png": "[encoded data removed]"
          },
          "metadata": {}
        }
      ]
    },
    {
      "cell_type": "markdown",
      "source": [
        "Data Cleaning:"
      ],
      "metadata": {
        "id": "qoXnYqvlumX0"
      }
    },
    {
      "cell_type": "code",
      "source": [
        "def limpar_texto(text):\n",
        "    text = re.sub(r'http\\S+|www\\S+|https\\S+', '', text) # Remove URLs\n",
        "    text = re.sub(r'[^a-zA-ZÀ-ú\\s]', '', text.lower()) # Remove caracteres especiais e passa o texto para caixa baixa\n",
        "    tokens = text.split() # Tokenização\n",
        "    tokens = [token for token in tokens if not token.isdigit()] # Remove números\n",
        "    tokens = [re.sub(r'[^\\w\\s]', '', token) for token in tokens] # Remove pontuação\n",
        "    tokens = [token.strip() for token in tokens] # Remove espaço em branco extra\n",
        "    tokens = [token for token in tokens if len(token) > 2] # Remove palavras com menos de 3 caracteres\n",
        "\n",
        "    # Redução das palavras ao seu radical\n",
        "    stemmer = PorterStemmer()\n",
        "    stemmed_tokens = [stemmer.stem(token) for token in tokens]\n",
        "\n",
        "    cleaned_text = ' '.join(tokens) # Junta os tokens de volta a um texto único\n",
        "    return cleaned_text"
      ],
      "metadata": {
        "id": "Aklvtwi8olN5"
      },
      "execution_count": 161,
      "outputs": []
    },
    {
      "cell_type": "code",
      "source": [
        "# Cria nova coluna 'texto_limpo' com valores da coluna 'review_full' tratados pela função limpar_texto\n",
        "df['texto_limpo'] = [limpar_texto(text) for text in df['review_full'].astype(str)]\n",
        "df.head(3)"
      ],
      "metadata": {
        "colab": {
          "base_uri": "https://localhost:8080/",
          "height": 0
        },
        "id": "fqQeofpUonvf",
        "outputId": "898091f9-9cf6-4ba2-f6df-6e2fa8aa94fd"
      },
      "execution_count": 162,
      "outputs": [
        {
          "output_type": "execute_result",
          "data": {
            "text/plain": [
              "   rating_review                                        review_full  \\\n",
              "0            5.0  Totally in love with the Auro of the place, re...   \n",
              "1            5.0  I went this bar 8 days regularly with my husba...   \n",
              "2            5.0  We were few friends and was a birthday celebra...   \n",
              "\n",
              "                                         texto_limpo  \n",
              "0  totally love with the auro the place really be...  \n",
              "1  went this bar days regularly with husband are ...  \n",
              "2  were few friends and was birthday celebration ...  "
            ],
            "text/html": [
              "\n",
              "\n",
              "  <div id=\"df-d7b23ff5-1b8d-48bd-873d-0791588a0ccd\">\n",
              "    <div class=\"colab-df-container\">\n",
              "      <div>\n",
              "<style scoped>\n",
              "    .dataframe tbody tr th:only-of-type {\n",
              "        vertical-align: middle;\n",
              "    }\n",
              "\n",
              "    .dataframe tbody tr th {\n",
              "        vertical-align: top;\n",
              "    }\n",
              "\n",
              "    .dataframe thead th {\n",
              "        text-align: right;\n",
              "    }\n",
              "</style>\n",
              "<table border=\"1\" class=\"dataframe\">\n",
              "  <thead>\n",
              "    <tr style=\"text-align: right;\">\n",
              "      <th></th>\n",
              "      <th>rating_review</th>\n",
              "      <th>review_full</th>\n",
              "      <th>texto_limpo</th>\n",
              "    </tr>\n",
              "  </thead>\n",
              "  <tbody>\n",
              "    <tr>\n",
              "      <th>0</th>\n",
              "      <td>5.0</td>\n",
              "      <td>Totally in love with the Auro of the place, re...</td>\n",
              "      <td>totally love with the auro the place really be...</td>\n",
              "    </tr>\n",
              "    <tr>\n",
              "      <th>1</th>\n",
              "      <td>5.0</td>\n",
              "      <td>I went this bar 8 days regularly with my husba...</td>\n",
              "      <td>went this bar days regularly with husband are ...</td>\n",
              "    </tr>\n",
              "    <tr>\n",
              "      <th>2</th>\n",
              "      <td>5.0</td>\n",
              "      <td>We were few friends and was a birthday celebra...</td>\n",
              "      <td>were few friends and was birthday celebration ...</td>\n",
              "    </tr>\n",
              "  </tbody>\n",
              "</table>\n",
              "</div>\n",
              "      <button class=\"colab-df-convert\" onclick=\"convertToInteractive('df-d7b23ff5-1b8d-48bd-873d-0791588a0ccd')\"\n",
              "              title=\"Convert this dataframe to an interactive table.\"\n",
              "              style=\"display:none;\">\n",
              "\n",
              "  <svg xmlns=\"http://www.w3.org/2000/svg\" height=\"24px\"viewBox=\"0 0 24 24\"\n",
              "       width=\"24px\">\n",
              "    <path d=\"M0 0h24v24H0V0z\" fill=\"none\"/>\n",
              "    <path d=\"M18.56 5.44l.94 2.06.94-2.06 2.06-.94-2.06-.94-.94-2.06-.94 2.06-2.06.94zm-11 1L8.5 8.5l.94-2.06 2.06-.94-2.06-.94L8.5 2.5l-.94 2.06-2.06.94zm10 10l.94 2.06.94-2.06 2.06-.94-2.06-.94-.94-2.06-.94 2.06-2.06.94z\"/><path d=\"M17.41 7.96l-1.37-1.37c-.4-.4-.92-.59-1.43-.59-.52 0-1.04.2-1.43.59L10.3 9.45l-7.72 7.72c-.78.78-.78 2.05 0 2.83L4 21.41c.39.39.9.59 1.41.59.51 0 1.02-.2 1.41-.59l7.78-7.78 2.81-2.81c.8-.78.8-2.07 0-2.86zM5.41 20L4 18.59l7.72-7.72 1.47 1.35L5.41 20z\"/>\n",
              "  </svg>\n",
              "      </button>\n",
              "\n",
              "\n",
              "\n",
              "    <div id=\"df-c7ea3cd4-52a3-4233-9a20-46d30ba71353\">\n",
              "      <button class=\"colab-df-quickchart\" onclick=\"quickchart('df-c7ea3cd4-52a3-4233-9a20-46d30ba71353')\"\n",
              "              title=\"Suggest charts.\"\n",
              "              style=\"display:none;\">\n",
              "\n",
              "<svg xmlns=\"http://www.w3.org/2000/svg\" height=\"24px\"viewBox=\"0 0 24 24\"\n",
              "     width=\"24px\">\n",
              "    <g>\n",
              "        <path d=\"M19 3H5c-1.1 0-2 .9-2 2v14c0 1.1.9 2 2 2h14c1.1 0 2-.9 2-2V5c0-1.1-.9-2-2-2zM9 17H7v-7h2v7zm4 0h-2V7h2v10zm4 0h-2v-4h2v4z\"/>\n",
              "    </g>\n",
              "</svg>\n",
              "      </button>\n",
              "    </div>\n",
              "\n",
              "<style>\n",
              "  .colab-df-quickchart {\n",
              "    background-color: #E8F0FE;\n",
              "    border: none;\n",
              "    border-radius: 50%;\n",
              "    cursor: pointer;\n",
              "    display: none;\n",
              "    fill: #1967D2;\n",
              "    height: 32px;\n",
              "    padding: 0 0 0 0;\n",
              "    width: 32px;\n",
              "  }\n",
              "\n",
              "  .colab-df-quickchart:hover {\n",
              "    background-color: #E2EBFA;\n",
              "    box-shadow: 0px 1px 2px rgba(60, 64, 67, 0.3), 0px 1px 3px 1px rgba(60, 64, 67, 0.15);\n",
              "    fill: #174EA6;\n",
              "  }\n",
              "\n",
              "  [theme=dark] .colab-df-quickchart {\n",
              "    background-color: #3B4455;\n",
              "    fill: #D2E3FC;\n",
              "  }\n",
              "\n",
              "  [theme=dark] .colab-df-quickchart:hover {\n",
              "    background-color: #434B5C;\n",
              "    box-shadow: 0px 1px 3px 1px rgba(0, 0, 0, 0.15);\n",
              "    filter: drop-shadow(0px 1px 2px rgba(0, 0, 0, 0.3));\n",
              "    fill: #FFFFFF;\n",
              "  }\n",
              "</style>\n",
              "\n",
              "    <script>\n",
              "      async function quickchart(key) {\n",
              "        const containerElement = document.querySelector('#' + key);\n",
              "        const charts = await google.colab.kernel.invokeFunction(\n",
              "            'suggestCharts', [key], {});\n",
              "      }\n",
              "    </script>\n",
              "\n",
              "      <script>\n",
              "\n",
              "function displayQuickchartButton(domScope) {\n",
              "  let quickchartButtonEl =\n",
              "    domScope.querySelector('#df-c7ea3cd4-52a3-4233-9a20-46d30ba71353 button.colab-df-quickchart');\n",
              "  quickchartButtonEl.style.display =\n",
              "    google.colab.kernel.accessAllowed ? 'block' : 'none';\n",
              "}\n",
              "\n",
              "        displayQuickchartButton(document);\n",
              "      </script>\n",
              "      <style>\n",
              "    .colab-df-container {\n",
              "      display:flex;\n",
              "      flex-wrap:wrap;\n",
              "      gap: 12px;\n",
              "    }\n",
              "\n",
              "    .colab-df-convert {\n",
              "      background-color: #E8F0FE;\n",
              "      border: none;\n",
              "      border-radius: 50%;\n",
              "      cursor: pointer;\n",
              "      display: none;\n",
              "      fill: #1967D2;\n",
              "      height: 32px;\n",
              "      padding: 0 0 0 0;\n",
              "      width: 32px;\n",
              "    }\n",
              "\n",
              "    .colab-df-convert:hover {\n",
              "      background-color: #E2EBFA;\n",
              "      box-shadow: 0px 1px 2px rgba(60, 64, 67, 0.3), 0px 1px 3px 1px rgba(60, 64, 67, 0.15);\n",
              "      fill: #174EA6;\n",
              "    }\n",
              "\n",
              "    [theme=dark] .colab-df-convert {\n",
              "      background-color: #3B4455;\n",
              "      fill: #D2E3FC;\n",
              "    }\n",
              "\n",
              "    [theme=dark] .colab-df-convert:hover {\n",
              "      background-color: #434B5C;\n",
              "      box-shadow: 0px 1px 3px 1px rgba(0, 0, 0, 0.15);\n",
              "      filter: drop-shadow(0px 1px 2px rgba(0, 0, 0, 0.3));\n",
              "      fill: #FFFFFF;\n",
              "    }\n",
              "  </style>\n",
              "\n",
              "      <script>\n",
              "        const buttonEl =\n",
              "          document.querySelector('#df-d7b23ff5-1b8d-48bd-873d-0791588a0ccd button.colab-df-convert');\n",
              "        buttonEl.style.display =\n",
              "          google.colab.kernel.accessAllowed ? 'block' : 'none';\n",
              "\n",
              "        async function convertToInteractive(key) {\n",
              "          const element = document.querySelector('#df-d7b23ff5-1b8d-48bd-873d-0791588a0ccd');\n",
              "          const dataTable =\n",
              "            await google.colab.kernel.invokeFunction('convertToInteractive',\n",
              "                                                     [key], {});\n",
              "          if (!dataTable) return;\n",
              "\n",
              "          const docLinkHtml = 'Like what you see? Visit the ' +\n",
              "            '<a target=\"_blank\" href=https://colab.research.google.com/notebooks/data_table.ipynb>data table notebook</a>'\n",
              "            + ' to learn more about interactive tables.';\n",
              "          element.innerHTML = '';\n",
              "          dataTable['output_type'] = 'display_data';\n",
              "          await google.colab.output.renderOutput(dataTable, element);\n",
              "          const docLink = document.createElement('div');\n",
              "          docLink.innerHTML = docLinkHtml;\n",
              "          element.appendChild(docLink);\n",
              "        }\n",
              "      </script>\n",
              "    </div>\n",
              "  </div>\n"
            ]
          },
          "metadata": {},
          "execution_count": 162
        }
      ]
    },
    {
      "cell_type": "code",
      "source": [
        "# Tokenização\n",
        "df['texto_limpo'] = df['texto_limpo'].apply(word_tokenize)\n",
        "\n",
        "# Remove stopwords\n",
        "stop_words = set(stopwords.words('english'))\n",
        "df['texto_limpo'] = df['texto_limpo'].apply(lambda x: [word for word in x if word not in stop_words])"
      ],
      "metadata": {
        "id": "DeCaPSCrC9wk"
      },
      "execution_count": 163,
      "outputs": []
    },
    {
      "cell_type": "code",
      "source": [
        "df.head(3)"
      ],
      "metadata": {
        "colab": {
          "base_uri": "https://localhost:8080/",
          "height": 0
        },
        "id": "eB6TTHFOEz_z",
        "outputId": "cae1188b-a360-4cd4-aa1e-b014c0bf2fac"
      },
      "execution_count": 164,
      "outputs": [
        {
          "output_type": "execute_result",
          "data": {
            "text/plain": [
              "   rating_review                                        review_full  \\\n",
              "0            5.0  Totally in love with the Auro of the place, re...   \n",
              "1            5.0  I went this bar 8 days regularly with my husba...   \n",
              "2            5.0  We were few friends and was a birthday celebra...   \n",
              "\n",
              "                                         texto_limpo  \n",
              "0  [totally, love, auro, place, really, beautiful...  \n",
              "1  [went, bar, days, regularly, husband, fully, s...  \n",
              "2  [friends, birthday, celebration, food, good, t...  "
            ],
            "text/html": [
              "\n",
              "\n",
              "  <div id=\"df-d8219a9d-1b8b-4457-988b-f17035caecdf\">\n",
              "    <div class=\"colab-df-container\">\n",
              "      <div>\n",
              "<style scoped>\n",
              "    .dataframe tbody tr th:only-of-type {\n",
              "        vertical-align: middle;\n",
              "    }\n",
              "\n",
              "    .dataframe tbody tr th {\n",
              "        vertical-align: top;\n",
              "    }\n",
              "\n",
              "    .dataframe thead th {\n",
              "        text-align: right;\n",
              "    }\n",
              "</style>\n",
              "<table border=\"1\" class=\"dataframe\">\n",
              "  <thead>\n",
              "    <tr style=\"text-align: right;\">\n",
              "      <th></th>\n",
              "      <th>rating_review</th>\n",
              "      <th>review_full</th>\n",
              "      <th>texto_limpo</th>\n",
              "    </tr>\n",
              "  </thead>\n",
              "  <tbody>\n",
              "    <tr>\n",
              "      <th>0</th>\n",
              "      <td>5.0</td>\n",
              "      <td>Totally in love with the Auro of the place, re...</td>\n",
              "      <td>[totally, love, auro, place, really, beautiful...</td>\n",
              "    </tr>\n",
              "    <tr>\n",
              "      <th>1</th>\n",
              "      <td>5.0</td>\n",
              "      <td>I went this bar 8 days regularly with my husba...</td>\n",
              "      <td>[went, bar, days, regularly, husband, fully, s...</td>\n",
              "    </tr>\n",
              "    <tr>\n",
              "      <th>2</th>\n",
              "      <td>5.0</td>\n",
              "      <td>We were few friends and was a birthday celebra...</td>\n",
              "      <td>[friends, birthday, celebration, food, good, t...</td>\n",
              "    </tr>\n",
              "  </tbody>\n",
              "</table>\n",
              "</div>\n",
              "      <button class=\"colab-df-convert\" onclick=\"convertToInteractive('df-d8219a9d-1b8b-4457-988b-f17035caecdf')\"\n",
              "              title=\"Convert this dataframe to an interactive table.\"\n",
              "              style=\"display:none;\">\n",
              "\n",
              "  <svg xmlns=\"http://www.w3.org/2000/svg\" height=\"24px\"viewBox=\"0 0 24 24\"\n",
              "       width=\"24px\">\n",
              "    <path d=\"M0 0h24v24H0V0z\" fill=\"none\"/>\n",
              "    <path d=\"M18.56 5.44l.94 2.06.94-2.06 2.06-.94-2.06-.94-.94-2.06-.94 2.06-2.06.94zm-11 1L8.5 8.5l.94-2.06 2.06-.94-2.06-.94L8.5 2.5l-.94 2.06-2.06.94zm10 10l.94 2.06.94-2.06 2.06-.94-2.06-.94-.94-2.06-.94 2.06-2.06.94z\"/><path d=\"M17.41 7.96l-1.37-1.37c-.4-.4-.92-.59-1.43-.59-.52 0-1.04.2-1.43.59L10.3 9.45l-7.72 7.72c-.78.78-.78 2.05 0 2.83L4 21.41c.39.39.9.59 1.41.59.51 0 1.02-.2 1.41-.59l7.78-7.78 2.81-2.81c.8-.78.8-2.07 0-2.86zM5.41 20L4 18.59l7.72-7.72 1.47 1.35L5.41 20z\"/>\n",
              "  </svg>\n",
              "      </button>\n",
              "\n",
              "\n",
              "\n",
              "    <div id=\"df-3c1c5079-ab71-47f6-904d-da624dd7e7d6\">\n",
              "      <button class=\"colab-df-quickchart\" onclick=\"quickchart('df-3c1c5079-ab71-47f6-904d-da624dd7e7d6')\"\n",
              "              title=\"Suggest charts.\"\n",
              "              style=\"display:none;\">\n",
              "\n",
              "<svg xmlns=\"http://www.w3.org/2000/svg\" height=\"24px\"viewBox=\"0 0 24 24\"\n",
              "     width=\"24px\">\n",
              "    <g>\n",
              "        <path d=\"M19 3H5c-1.1 0-2 .9-2 2v14c0 1.1.9 2 2 2h14c1.1 0 2-.9 2-2V5c0-1.1-.9-2-2-2zM9 17H7v-7h2v7zm4 0h-2V7h2v10zm4 0h-2v-4h2v4z\"/>\n",
              "    </g>\n",
              "</svg>\n",
              "      </button>\n",
              "    </div>\n",
              "\n",
              "<style>\n",
              "  .colab-df-quickchart {\n",
              "    background-color: #E8F0FE;\n",
              "    border: none;\n",
              "    border-radius: 50%;\n",
              "    cursor: pointer;\n",
              "    display: none;\n",
              "    fill: #1967D2;\n",
              "    height: 32px;\n",
              "    padding: 0 0 0 0;\n",
              "    width: 32px;\n",
              "  }\n",
              "\n",
              "  .colab-df-quickchart:hover {\n",
              "    background-color: #E2EBFA;\n",
              "    box-shadow: 0px 1px 2px rgba(60, 64, 67, 0.3), 0px 1px 3px 1px rgba(60, 64, 67, 0.15);\n",
              "    fill: #174EA6;\n",
              "  }\n",
              "\n",
              "  [theme=dark] .colab-df-quickchart {\n",
              "    background-color: #3B4455;\n",
              "    fill: #D2E3FC;\n",
              "  }\n",
              "\n",
              "  [theme=dark] .colab-df-quickchart:hover {\n",
              "    background-color: #434B5C;\n",
              "    box-shadow: 0px 1px 3px 1px rgba(0, 0, 0, 0.15);\n",
              "    filter: drop-shadow(0px 1px 2px rgba(0, 0, 0, 0.3));\n",
              "    fill: #FFFFFF;\n",
              "  }\n",
              "</style>\n",
              "\n",
              "    <script>\n",
              "      async function quickchart(key) {\n",
              "        const containerElement = document.querySelector('#' + key);\n",
              "        const charts = await google.colab.kernel.invokeFunction(\n",
              "            'suggestCharts', [key], {});\n",
              "      }\n",
              "    </script>\n",
              "\n",
              "      <script>\n",
              "\n",
              "function displayQuickchartButton(domScope) {\n",
              "  let quickchartButtonEl =\n",
              "    domScope.querySelector('#df-3c1c5079-ab71-47f6-904d-da624dd7e7d6 button.colab-df-quickchart');\n",
              "  quickchartButtonEl.style.display =\n",
              "    google.colab.kernel.accessAllowed ? 'block' : 'none';\n",
              "}\n",
              "\n",
              "        displayQuickchartButton(document);\n",
              "      </script>\n",
              "      <style>\n",
              "    .colab-df-container {\n",
              "      display:flex;\n",
              "      flex-wrap:wrap;\n",
              "      gap: 12px;\n",
              "    }\n",
              "\n",
              "    .colab-df-convert {\n",
              "      background-color: #E8F0FE;\n",
              "      border: none;\n",
              "      border-radius: 50%;\n",
              "      cursor: pointer;\n",
              "      display: none;\n",
              "      fill: #1967D2;\n",
              "      height: 32px;\n",
              "      padding: 0 0 0 0;\n",
              "      width: 32px;\n",
              "    }\n",
              "\n",
              "    .colab-df-convert:hover {\n",
              "      background-color: #E2EBFA;\n",
              "      box-shadow: 0px 1px 2px rgba(60, 64, 67, 0.3), 0px 1px 3px 1px rgba(60, 64, 67, 0.15);\n",
              "      fill: #174EA6;\n",
              "    }\n",
              "\n",
              "    [theme=dark] .colab-df-convert {\n",
              "      background-color: #3B4455;\n",
              "      fill: #D2E3FC;\n",
              "    }\n",
              "\n",
              "    [theme=dark] .colab-df-convert:hover {\n",
              "      background-color: #434B5C;\n",
              "      box-shadow: 0px 1px 3px 1px rgba(0, 0, 0, 0.15);\n",
              "      filter: drop-shadow(0px 1px 2px rgba(0, 0, 0, 0.3));\n",
              "      fill: #FFFFFF;\n",
              "    }\n",
              "  </style>\n",
              "\n",
              "      <script>\n",
              "        const buttonEl =\n",
              "          document.querySelector('#df-d8219a9d-1b8b-4457-988b-f17035caecdf button.colab-df-convert');\n",
              "        buttonEl.style.display =\n",
              "          google.colab.kernel.accessAllowed ? 'block' : 'none';\n",
              "\n",
              "        async function convertToInteractive(key) {\n",
              "          const element = document.querySelector('#df-d8219a9d-1b8b-4457-988b-f17035caecdf');\n",
              "          const dataTable =\n",
              "            await google.colab.kernel.invokeFunction('convertToInteractive',\n",
              "                                                     [key], {});\n",
              "          if (!dataTable) return;\n",
              "\n",
              "          const docLinkHtml = 'Like what you see? Visit the ' +\n",
              "            '<a target=\"_blank\" href=https://colab.research.google.com/notebooks/data_table.ipynb>data table notebook</a>'\n",
              "            + ' to learn more about interactive tables.';\n",
              "          element.innerHTML = '';\n",
              "          dataTable['output_type'] = 'display_data';\n",
              "          await google.colab.output.renderOutput(dataTable, element);\n",
              "          const docLink = document.createElement('div');\n",
              "          docLink.innerHTML = docLinkHtml;\n",
              "          element.appendChild(docLink);\n",
              "        }\n",
              "      </script>\n",
              "    </div>\n",
              "  </div>\n"
            ]
          },
          "metadata": {},
          "execution_count": 164
        }
      ]
    },
    {
      "cell_type": "code",
      "source": [
        "df['num_elementos'] = df['texto_limpo'].apply(len) # Contagem de elementos em cada registro\n",
        "indice_max_elementos = df['num_elementos'].idxmax() # Índice do registro com o maior número de elementos\n",
        "registro_max_elementos = df.loc[indice_max_elementos, 'texto_limpo'] # Registro com o maior número de elementos\n",
        "\n",
        "print(\"O registro com o maior número de elementos é:\", registro_max_elementos)\n",
        "print(\"Número de elementos:\", len(registro_max_elementos))\n",
        "\n",
        "df = df.drop('num_elementos', axis=1) # Remover a coluna 'num_elementos' se não for mais necessária"
      ],
      "metadata": {
        "colab": {
          "base_uri": "https://localhost:8080/"
        },
        "id": "epu2s3wLOFLj",
        "outputId": "57a7e1bb-ce3e-46b5-e1c3-37ee053ee903"
      },
      "execution_count": 165,
      "outputs": [
        {
          "output_type": "stream",
          "name": "stdout",
          "text": [
            "O registro com o maior número de elementos é: ['restaurant', 'outer', 'circle', 'next', 'barbeque', 'nation', 'second', 'floor', 'cosy', 'restaurant', 'nice', 'simple', 'decor', 'comfortable', 'seating', 'along', 'soft', 'music', 'playing', 'food', 'drinks', 'drinks', 'one', 'hard', 'drink', 'one', 'beer', 'also', 'juice', 'starting', 'offer', 'bar', 'starters', 'manchow', 'soup', 'one', 'veg', 'non', 'veg', 'manchow', 'well', 'cooked', 'balance', 'taste', 'along', 'order', 'fish', 'orly', 'crispy', 'corns', 'chilli', 'fish', 'chilli', 'mushroom', 'tandoori', 'chicken', 'tikka', 'must', 'try', 'dish', 'fish', 'orly', 'use', 'basa', 'fish', 'ten', 'pieces', 'guess', 'carte', 'menu', 'size', 'seriously', 'loved', 'chilli', 'fish', 'awesome', 'crispy', 'side', 'crunchy', 'sides', 'soft', 'inside', 'also', 'crispy', 'corn', 'nice', 'quantity', 'two', 'people', 'easily', 'enjoy', 'dish', 'starters', 'chilli', 'mushroom', 'frind', 'vegetarian', 'hve', 'take', 'care', 'order', 'chicken', 'tikka', 'well', 'cooked', 'juicy', 'flavour', 'full', 'melted', 'mouth', 'like', 'wow', 'serious', 'saying', 'dam', 'gud', 'come', 'main', 'course', 'kadhi', 'paneer', 'jeera', 'rice', 'mutton', 'rogan', 'josh', 'breads', 'one', 'garlic', 'naan', 'laccha', 'parantha', 'mutton', 'rogan', 'josh', 'seriously', 'loved', 'nice', 'piece', 'thick', 'gravy', 'oily', 'nothing', 'wow', 'wali', 'feel', 'juicy', 'pieces', 'nice', 'gravy', 'kadhi', 'paneer', 'frind', 'eated', 'tht', 'along', 'naan', 'rice', 'mutton', 'garlic', 'naan', 'rice', 'gravy', 'seriously', 'pakke', 'punjabiyo', 'wali', 'feel', 'hehe', 'joke', 'apart', 'means', 'seriously', 'loved', 'ruko', 'abhi', 'katm', 'nhi', 'hua', 'mare', 'dost', 'desert', 'main', 'brownie', 'icecream', 'soft', 'warm', 'brownie', 'top', 'icecream', 'chocolate', 'nice', 'warm', 'feel', 'brownie', 'cuts', 'like', 'wow', 'soft', 'easily', 'eated', 'overall', 'complete', 'dinner', 'sorted', 'loved', 'service', 'quick', 'things', 'coming', 'hot', 'remain', 'got', 'time', 'must', 'recommend', 'orly', 'fish', 'manchow', 'soup', 'chicken', 'tikka', 'brownie', 'icecream', 'seriously', 'guys', 'love', 'come', 'soon', 'recommendation', 'must', 'try', 'next', 'time', 'thanks', 'serving', 'warm', 'hearted', 'sweet', 'smile', 'face']\n",
            "Número de elementos: 241\n"
          ]
        }
      ]
    },
    {
      "cell_type": "code",
      "source": [
        "textos = df['texto_limpo'].astype(str).tolist()\n",
        "rotulos = df['rating_review'].tolist()\n",
        "\n",
        "X_treino, X_teste, y_treino, y_teste = train_test_split(textos, rotulos, test_size=0.1, random_state=42)\n",
        "\n",
        "tokenizer = Tokenizer()\n",
        "tokenizer.fit_on_texts(X_treino)\n",
        "X_treino = tokenizer.texts_to_sequences(X_treino)\n",
        "X_teste = tokenizer.texts_to_sequences(X_teste)\n",
        "\n",
        "max_len = 241  # comprimento máximo das sequências\n",
        "vocab_size = 130000 # comprimento máximo do vocabulário\n",
        "X_treino = pad_sequences(X_treino, maxlen=max_len)\n",
        "X_teste = pad_sequences(X_teste, maxlen=max_len)\n",
        "\n",
        "y_treino = to_categorical(y_treino)\n",
        "y_teste = to_categorical(y_teste)\n"
      ],
      "metadata": {
        "id": "YpWcPO_DKa2f"
      },
      "execution_count": 166,
      "outputs": []
    },
    {
      "cell_type": "code",
      "source": [
        "vocabulario = set()\n",
        "for texto in X_treino:\n",
        "    tokens = str(texto).split()  # quebra o texto em tokens (palavras)\n",
        "    vocabulario.update(set(tokens))  # adiciona os tokens ao vocabulário\n",
        "tamanho_vocabulario = len(vocabulario)\n",
        "print(\"O tamanho do vocabulário é:\", tamanho_vocabulario)"
      ],
      "metadata": {
        "colab": {
          "base_uri": "https://localhost:8080/"
        },
        "id": "VVc4RwhVWkdm",
        "outputId": "c7dc69f4-3765-469b-b517-086497891666"
      },
      "execution_count": 167,
      "outputs": [
        {
          "output_type": "stream",
          "name": "stdout",
          "text": [
            "O tamanho do vocabulário é: 125059\n"
          ]
        }
      ]
    },
    {
      "cell_type": "markdown",
      "source": [
        "## Modelagem"
      ],
      "metadata": {
        "id": "_f5ZxOldcahk"
      }
    },
    {
      "cell_type": "markdown",
      "source": [
        "O modelo foi construído tendo como referência o modelo de classificação de texto multicategórico do [Tensorflow](https://www.tensorflow.org/tutorials/keras/text_classification?hl=pt-br).\n",
        "\n",
        "No desenvolvimento do modelo foram testados:\n",
        "\n",
        " - Layers **LSTM** e **Bidirecional(LSTM)**, inspirados no modelo [BERT](https://www.tensorflow.org/text/tutorials/classify_text_with_bert?hl=pt-br) do tensorflow, cujo objetivo seria capturar sequências de palavras como fatores determinantes para o rating do usuário.\n",
        "\n",
        " - Layer convolucional de 1 dimensão (**Conv1D**), que apesar de não constar na documentação do tensorflow para o problema em questão, foram encontradas diversas refências de uso na web.\n",
        "\n",
        "A utilização dos layers citados acima não melhoraram as métricas de treinamento. No bloco de código foram deixados #exemplos de suas utilizações para consulta caso desejado. As camadas de memória aumentaram a demanda por GPU e RAM substancialmente.\n",
        "\n",
        " - **Dropout** e **regularização L1/L2**, cujo objetivo era diminuir overfitting e melhorar a generalização. Na prática ambos os métodos alteraram as dinâmicas de aprendizado, mas foram incapazes de melhorar os resultados.\n",
        "\n",
        "Todas as abordagens listadas foram testadas em diversas configurações de hiperparâmetros e combinadas entre si.\n",
        "\n",
        "O modelo final escolhido foi testato com diversas camadas ocultas e quantidade de neurônios variados.\n",
        "\n",
        "Todas essas variações tiveram seus melhores resultados convergindo para o mesmo desempenho, então foi escolhida a versão mais simples e rápida.\n",
        "\n",
        "\n",
        "As métricas de avaliação escolhidas foram:\n",
        "- **accuracy** para medir a quantidade de acertos de classificação.\n",
        "- **MeanSquaredError** para medir a distância média entre as previsões e os valores reais. O objetivo desta métrica é determinar se o modelo ainda está melhorando no caso da **accuracy** permanecer constante,  ou seja, se os erros estão convergindo para acerto."
      ],
      "metadata": {
        "id": "OEEnVl1d1CpL"
      }
    },
    {
      "cell_type": "code",
      "source": [
        "np.random.seed(42)\n",
        "\n",
        "# Cria o modelo\n",
        "modelo_1 = Sequential()\n",
        "modelo_1.add(Embedding(vocab_size, 12)) # Adiciona uma camada de embedding para representação vetorial das palavras.\n",
        "modelo_1.add(GlobalAveragePooling1D()) # Retorna um vetor de saída com comprimento fixo\n",
        "modelo_1.add(Dense(12, activation='relu')) # Camada oculta\n",
        "modelo_1.add(Dense(6, activation='softmax')) # Adiciona uma camada densa de saída para classificação / ativação softmax é geralmente usada para problemas de classificação com mais de duas classes.\n",
        "modelo_1.compile(optimizer='adam', loss='categorical_crossentropy', metrics=['accuracy', \"MeanSquaredError\"]) # Compila o modelo /'categorical_crossentropy' é usada para problemas de classificação multicategórica.\n",
        "modelo_1.summary() # Resume o modelo\n",
        "\n",
        "#modelo_n.add(Bidirectional(LSTM(32, kernel_regularizer=regularizers.l2(0.01), dropout=0.2)))\n",
        "#modelo_n.add(Dense(32, kernel_regularizer=regularizers.l1(0.001), activation='relu'))\n",
        "#modelo_n.add(Dropout(0.2))\n",
        "\n",
        "# Treina o modelo\n",
        "historico_1 = modelo_1.fit(X_treino, y_treino, batch_size=512, epochs=100, validation_data=(X_teste, y_teste), callbacks=[EarlyStopping(monitor='val_mean_squared_error', patience=5, restore_best_weights=True)])"
      ],
      "metadata": {
        "colab": {
          "base_uri": "https://localhost:8080/"
        },
        "id": "uucFDxbAccNM",
        "outputId": "3c38257e-1af8-430e-abac-202f7f6e6cbf"
      },
      "execution_count": 168,
      "outputs": [
        {
          "output_type": "stream",
          "name": "stdout",
          "text": [
            "Model: \"sequential\"\n",
            "_________________________________________________________________\n",
            " Layer (type)                Output Shape              Param #   \n",
            "=================================================================\n",
            " embedding (Embedding)       (None, None, 12)          1560000   \n",
            "                                                                 \n",
            " global_average_pooling1d (G  (None, 12)               0         \n",
            " lobalAveragePooling1D)                                          \n",
            "                                                                 \n",
            " dense (Dense)               (None, 12)                156       \n",
            "                                                                 \n",
            " dense_1 (Dense)             (None, 6)                 78        \n",
            "                                                                 \n",
            "=================================================================\n",
            "Total params: 1,560,234\n",
            "Trainable params: 1,560,234\n",
            "Non-trainable params: 0\n",
            "_________________________________________________________________\n",
            "Epoch 1/100\n",
            "256/256 [==============================] - 55s 196ms/step - loss: 1.3701 - accuracy: 0.4861 - mean_squared_error: 0.1143 - val_loss: 1.1794 - val_accuracy: 0.4919 - val_mean_squared_error: 0.1042\n",
            "Epoch 2/100\n",
            "256/256 [==============================] - 31s 120ms/step - loss: 1.1619 - accuracy: 0.4911 - mean_squared_error: 0.1040 - val_loss: 1.1501 - val_accuracy: 0.4919 - val_mean_squared_error: 0.1034\n",
            "Epoch 3/100\n",
            "256/256 [==============================] - 21s 81ms/step - loss: 1.1324 - accuracy: 0.4916 - mean_squared_error: 0.1027 - val_loss: 1.1038 - val_accuracy: 0.4949 - val_mean_squared_error: 0.1007\n",
            "Epoch 4/100\n",
            "256/256 [==============================] - 16s 64ms/step - loss: 1.0474 - accuracy: 0.5105 - mean_squared_error: 0.0967 - val_loss: 0.9875 - val_accuracy: 0.5363 - val_mean_squared_error: 0.0920\n",
            "Epoch 5/100\n",
            "256/256 [==============================] - 8s 32ms/step - loss: 0.9420 - accuracy: 0.5701 - mean_squared_error: 0.0886 - val_loss: 0.9198 - val_accuracy: 0.5812 - val_mean_squared_error: 0.0870\n",
            "Epoch 6/100\n",
            "256/256 [==============================] - 11s 41ms/step - loss: 0.8908 - accuracy: 0.5989 - mean_squared_error: 0.0847 - val_loss: 0.8910 - val_accuracy: 0.6038 - val_mean_squared_error: 0.0847\n",
            "Epoch 7/100\n",
            "256/256 [==============================] - 11s 42ms/step - loss: 0.8567 - accuracy: 0.6150 - mean_squared_error: 0.0819 - val_loss: 0.8614 - val_accuracy: 0.6163 - val_mean_squared_error: 0.0822\n",
            "Epoch 8/100\n",
            "256/256 [==============================] - 6s 23ms/step - loss: 0.8241 - accuracy: 0.6322 - mean_squared_error: 0.0790 - val_loss: 0.8367 - val_accuracy: 0.6257 - val_mean_squared_error: 0.0800\n",
            "Epoch 9/100\n",
            "256/256 [==============================] - 4s 16ms/step - loss: 0.7992 - accuracy: 0.6457 - mean_squared_error: 0.0769 - val_loss: 0.8225 - val_accuracy: 0.6313 - val_mean_squared_error: 0.0789\n",
            "Epoch 10/100\n",
            "256/256 [==============================] - 6s 25ms/step - loss: 0.7803 - accuracy: 0.6557 - mean_squared_error: 0.0753 - val_loss: 0.8113 - val_accuracy: 0.6379 - val_mean_squared_error: 0.0777\n",
            "Epoch 11/100\n",
            "256/256 [==============================] - 5s 18ms/step - loss: 0.7648 - accuracy: 0.6634 - mean_squared_error: 0.0739 - val_loss: 0.8044 - val_accuracy: 0.6424 - val_mean_squared_error: 0.0772\n",
            "Epoch 12/100\n",
            "256/256 [==============================] - 3s 12ms/step - loss: 0.7512 - accuracy: 0.6706 - mean_squared_error: 0.0726 - val_loss: 0.7985 - val_accuracy: 0.6455 - val_mean_squared_error: 0.0766\n",
            "Epoch 13/100\n",
            "256/256 [==============================] - 6s 23ms/step - loss: 0.7386 - accuracy: 0.6774 - mean_squared_error: 0.0715 - val_loss: 0.7946 - val_accuracy: 0.6471 - val_mean_squared_error: 0.0764\n",
            "Epoch 14/100\n",
            "256/256 [==============================] - 4s 16ms/step - loss: 0.7276 - accuracy: 0.6833 - mean_squared_error: 0.0705 - val_loss: 0.7929 - val_accuracy: 0.6480 - val_mean_squared_error: 0.0761\n",
            "Epoch 15/100\n",
            "256/256 [==============================] - 3s 12ms/step - loss: 0.7173 - accuracy: 0.6886 - mean_squared_error: 0.0694 - val_loss: 0.7886 - val_accuracy: 0.6501 - val_mean_squared_error: 0.0758\n",
            "Epoch 16/100\n",
            "256/256 [==============================] - 3s 11ms/step - loss: 0.7074 - accuracy: 0.6942 - mean_squared_error: 0.0685 - val_loss: 0.7882 - val_accuracy: 0.6530 - val_mean_squared_error: 0.0756\n",
            "Epoch 17/100\n",
            "256/256 [==============================] - 3s 14ms/step - loss: 0.6976 - accuracy: 0.7001 - mean_squared_error: 0.0675 - val_loss: 0.7868 - val_accuracy: 0.6524 - val_mean_squared_error: 0.0755\n",
            "Epoch 18/100\n",
            "256/256 [==============================] - 4s 14ms/step - loss: 0.6885 - accuracy: 0.7048 - mean_squared_error: 0.0666 - val_loss: 0.7867 - val_accuracy: 0.6507 - val_mean_squared_error: 0.0756\n",
            "Epoch 19/100\n",
            "256/256 [==============================] - 3s 13ms/step - loss: 0.6796 - accuracy: 0.7089 - mean_squared_error: 0.0657 - val_loss: 0.7892 - val_accuracy: 0.6521 - val_mean_squared_error: 0.0757\n",
            "Epoch 20/100\n",
            "256/256 [==============================] - 3s 12ms/step - loss: 0.6706 - accuracy: 0.7136 - mean_squared_error: 0.0648 - val_loss: 0.7898 - val_accuracy: 0.6522 - val_mean_squared_error: 0.0758\n",
            "Epoch 21/100\n",
            "256/256 [==============================] - 3s 12ms/step - loss: 0.6613 - accuracy: 0.7199 - mean_squared_error: 0.0638 - val_loss: 0.7901 - val_accuracy: 0.6492 - val_mean_squared_error: 0.0759\n",
            "Epoch 22/100\n",
            "256/256 [==============================] - 3s 12ms/step - loss: 0.6528 - accuracy: 0.7236 - mean_squared_error: 0.0630 - val_loss: 0.7944 - val_accuracy: 0.6492 - val_mean_squared_error: 0.0762\n"
          ]
        }
      ]
    },
    {
      "cell_type": "code",
      "source": [
        "# Extrair as métricas de treinamento e validação\n",
        "loss = historico_1.history['loss']\n",
        "val_loss = historico_1.history['val_loss']\n",
        "accuracy = historico_1.history['accuracy']\n",
        "val_accuracy = historico_1.history['val_accuracy']\n",
        "MSE = historico_1.history['mean_squared_error']\n",
        "val_MSE = historico_1.history['val_mean_squared_error']\n",
        "\n",
        "# Criar a figura com três subplots\n",
        "fig, axs = plt.subplots(1, 3, figsize=(15, 5))\n",
        "\n",
        "# Plotar a curva de perda\n",
        "axs[0].plot(loss, label='Training Loss')\n",
        "axs[0].plot(val_loss, label='Validation Loss')\n",
        "axs[0].set_xlabel('Epoch')\n",
        "axs[0].set_ylabel('Loss')\n",
        "axs[0].legend()\n",
        "\n",
        "# Plotar a curva de precisão\n",
        "axs[1].plot(accuracy, label='Training Accuracy')\n",
        "axs[1].plot(val_accuracy, label='Validation Accuracy')\n",
        "axs[1].set_xlabel('Epoch')\n",
        "axs[1].set_ylabel('Accuracy')\n",
        "axs[1].legend()\n",
        "\n",
        "# Plotar a curva de MSE\n",
        "axs[2].plot(MSE, label='Training MeanSquaredError')\n",
        "axs[2].plot(val_MSE, label='Validation MeanSquaredError')\n",
        "axs[2].set_xlabel('Epoch')\n",
        "axs[2].set_ylabel('MeanSquaredError')\n",
        "axs[2].legend()\n",
        "\n",
        "# Ajustar o espaçamento entre os subplots\n",
        "plt.tight_layout()\n",
        "\n",
        "# Exibir a figura\n",
        "plt.show()"
      ],
      "metadata": {
        "colab": {
          "base_uri": "https://localhost:8080/",
          "height": 0
        },
        "id": "wwJF-q6vcmQV",
        "outputId": "cda83a44-5723-4e8d-851a-654188c120c4"
      },
      "execution_count": 169,
      "outputs": [
        {
          "output_type": "display_data",
          "data": {
            "text/plain": [
              "<Figure size 1500x500 with 3 Axes>"
            ],
            "image/png": "[encoded data removed]"
          },
          "metadata": {}
        }
      ]
    },
    {
      "cell_type": "markdown",
      "source": [
        "As curvas de Loss, Accuracy e MeanSquaredError tiveram o comportamento esperado do aprendizado."
      ],
      "metadata": {
        "id": "x3bTxTvOODDR"
      }
    },
    {
      "cell_type": "code",
      "source": [
        "# Fazer previsões com o conjunto de teste\n",
        "previsoes = modelo_1.predict(X_teste)\n",
        "previsoes_classes = np.argmax(previsoes, axis=1)\n",
        "\n",
        "# Avaliar o desempenho do modelo\n",
        "resultado = modelo_1.evaluate(X_teste, y_teste)\n",
        "\n",
        "# Resultado contém a perda e as métricas calculadas durante a avaliação\n",
        "loss = resultado[0]\n",
        "accuracy = resultado[1]"
      ],
      "metadata": {
        "id": "4n6NGRBYz7Jo",
        "colab": {
          "base_uri": "https://localhost:8080/"
        },
        "outputId": "3f2292dc-7a3b-4963-8859-745bd0122051"
      },
      "execution_count": 170,
      "outputs": [
        {
          "output_type": "stream",
          "name": "stdout",
          "text": [
            "455/455 [==============================] - 1s 2ms/step\n",
            "455/455 [==============================] - 1s 3ms/step - loss: 0.7868 - accuracy: 0.6524 - mean_squared_error: 0.0755\n"
          ]
        }
      ]
    },
    {
      "cell_type": "markdown",
      "source": [
        "## Resultado"
      ],
      "metadata": {
        "id": "xA1OrwooVox1"
      }
    },
    {
      "cell_type": "code",
      "source": [
        "cm = confusion_matrix(np.argmax(y_teste, axis=1), previsoes_classes)\n",
        "\n",
        "# Função auxiliar para plotar a matriz de confusão\n",
        "def plot_confusion_matrix(cm, classes):\n",
        "    plt.imshow(cm, interpolation='nearest', cmap=plt.cm.Blues)\n",
        "    plt.colorbar()\n",
        "    tick_marks = np.arange(len(classes))\n",
        "    plt.xticks(tick_marks, classes, rotation=45)\n",
        "    plt.yticks(tick_marks, classes)\n",
        "\n",
        "    fmt = '.2f'\n",
        "    thresh = cm.max() / 2.\n",
        "    for i, j in itertools.product(range(cm.shape[0]), range(cm.shape[1])):\n",
        "        plt.text(j, i, format(cm[i, j], fmt), horizontalalignment=\"center\",\n",
        "                 color=\"white\" if cm[i, j] > thresh else \"black\")\n",
        "\n",
        "    plt.tight_layout()\n",
        "    plt.ylabel('Rótulo Real')\n",
        "    plt.xlabel('Rótulo Previsto')\n",
        "\n",
        "# Plotando a matriz de confusão\n",
        "plot_confusion_matrix(cm, [1., 2., 3., 4., 5.])\n",
        "plt.show()"
      ],
      "metadata": {
        "id": "sCEKei5w0CG2",
        "colab": {
          "base_uri": "https://localhost:8080/",
          "height": 506
        },
        "outputId": "cfbb1d3c-192e-49b3-d1ba-8598a79d80b8"
      },
      "execution_count": 171,
      "outputs": [
        {
          "output_type": "display_data",
          "data": {
            "text/plain": [
              "<Figure size 640x480 with 2 Axes>"
            ],
            "image/png": "[encoded data removed]"
          },
          "metadata": {}
        }
      ]
    },
    {
      "cell_type": "markdown",
      "source": [
        "A matriz confusão demonstra que o modelo alcançou um bom resultado, pois os maiores valores se concentram na diagonal principal e vão diminuindo gradativamente conforme se distanciam desta."
      ],
      "metadata": {
        "id": "5eUZqL5JRH1h"
      }
    },
    {
      "cell_type": "code",
      "source": [
        "# Acurácia\n",
        "accuracy = accuracy_score(np.argmax(y_teste, axis=1), previsoes_classes)\n",
        "print(\"Acurácia:\", accuracy)\n",
        "\n",
        "# Relatório de Classificação\n",
        "target_names = ['Rating 1', 'Rating 2', 'Rating 3', 'Rating 4', 'Rating 5']\n",
        "classification_rep = classification_report(np.argmax(y_teste, axis=1), previsoes_classes, target_names=target_names)\n",
        "print(\"Relatório de Classificação:\")\n",
        "print(classification_rep)"
      ],
      "metadata": {
        "colab": {
          "base_uri": "https://localhost:8080/"
        },
        "id": "mcT3j07w0ILo",
        "outputId": "2af4b8a3-fe23-4c31-9f16-70cc89db7dbb"
      },
      "execution_count": 172,
      "outputs": [
        {
          "output_type": "stream",
          "name": "stdout",
          "text": [
            "Acurácia: 0.6523622859500722\n",
            "Relatório de Classificação:\n",
            "              precision    recall  f1-score   support\n",
            "\n",
            "    Rating 1       0.64      0.61      0.62       477\n",
            "    Rating 2       0.40      0.08      0.13       441\n",
            "    Rating 3       0.50      0.45      0.47      1507\n",
            "    Rating 4       0.57      0.55      0.56      4963\n",
            "    Rating 5       0.73      0.81      0.77      7153\n",
            "\n",
            "    accuracy                           0.65     14541\n",
            "   macro avg       0.57      0.50      0.51     14541\n",
            "weighted avg       0.64      0.65      0.64     14541\n",
            "\n"
          ]
        }
      ]
    },
    {
      "cell_type": "markdown",
      "source": [
        "O Relatório de Classificação reitera o bom desempenho geral do modelo, principalmente nos rating extremos 1 e 5.\n",
        "\n",
        "Também fica evidente uma maior dificuldade em classificar especificamente o rating 2."
      ],
      "metadata": {
        "id": "iuFUWSfEXvHm"
      }
    },
    {
      "cell_type": "markdown",
      "source": [
        "Análise dos piores erros de classificação:"
      ],
      "metadata": {
        "id": "1Bnb4btFVpum"
      }
    },
    {
      "cell_type": "code",
      "source": [
        "# Selecionando registros com rótulo real igual a 5 e rótulo previsto igual a 1\n",
        "indices_selecionados = np.where((np.argmax(y_teste, axis=1) == 5) & (previsoes_classes == 1))[0]\n",
        "\n",
        "print(\"Rótulo Real: 5  /  Rótulo Previsto: 1 \\n\")\n",
        "# Iterando sobre os registros selecionados e imprimindo as informações\n",
        "for indice in indices_selecionados:\n",
        "    print(\"Registro \", indice, \" Review: \", df.iloc[indice, 1])"
      ],
      "metadata": {
        "id": "OFnUctsgVu_I",
        "colab": {
          "base_uri": "https://localhost:8080/"
        },
        "outputId": "28d29b71-32c7-4ea4-a58b-96eba194ab44"
      },
      "execution_count": 173,
      "outputs": [
        {
          "output_type": "stream",
          "name": "stdout",
          "text": [
            "Rótulo Real: 5  /  Rótulo Previsto: 1 \n",
            "\n",
            "Registro  2464  Review:  It is a great restaurant. Mr Sumit Kumar miss Radha served us very well. Great place, great experience. Must visit. \n",
            "Registro  5481  Review:  Good restaurant for Indian food great prompt service nice rasmalai cake will recommend all family and friends. Thanks for delightful evenings.\n",
            "Registro  7810  Review:  hard rock cafe provides excellent service with friendly staff . Everything that you order would taste delicious. highly recommended.\n",
            "Registro  8912  Review:  Was invited by my friend for a dinner. Had an extremely authentic and flavourful experience of chinese and thai food\n"
          ]
        }
      ]
    },
    {
      "cell_type": "code",
      "source": [
        "# Selecionando registros com rótulo real igual a 5 e rótulo previsto igual a 1\n",
        "indices_selecionados = np.where((np.argmax(y_teste, axis=1) == 1) & (previsoes_classes == 5))[0]\n",
        "\n",
        "print(\"Rótulo Real: 1  /  Rótulo Previsto: 5 \\n\")\n",
        "# Iterando sobre os registros selecionados e imprimindo as informações\n",
        "for indice in indices_selecionados:\n",
        "    print(\"Registro \", indice, \" Review: \", df.iloc[indice, 1])"
      ],
      "metadata": {
        "id": "DSmtE-1WZY0q",
        "colab": {
          "base_uri": "https://localhost:8080/"
        },
        "outputId": "d80ab6ed-b616-4ef2-ea28-aaa89ff1846c"
      },
      "execution_count": 174,
      "outputs": [
        {
          "output_type": "stream",
          "name": "stdout",
          "text": [
            "Rótulo Real: 1  /  Rótulo Previsto: 5 \n",
            "\n",
            "Registro  1948  Review:  Excellent food, mutton rogan josh was amazing, best in class service (Shivam was exceptional and kind)and live music.. had a great time.\n",
            "Registro  2126  Review:  Visited for a quick get together with friends, was not disappointed at all. The selection of food and drinks is world class. Topesh and his team is very friendly. Will be back soon..\n",
            "Registro  2951  Review:  Best food in West Delhi . Good service , great salad bar , excellent deserts and a wide variety of wine .\n",
            "Registro  3299  Review:  Went their to celebrate my friend's birthday. We'd thier pizza and potato wedges . Pizza was very good the potato wedges could be better .🤗 Overall good experience 👍\n",
            "Registro  3877  Review:  Fantastic buffet choice on the day of my visit. Huge choice of international and Indian cuisine. Pleasent setting. Nice staff\n",
            "Registro  4544  Review:  Veda has beautiful combination of baroque interiors and authentique indian cuisine. Try the chicken tikka and panneer tikka, the personnel are well mannered.\n",
            "Registro  4981  Review:  Been there in search of quality vegetarian food.. Place was clean and tidy (uncommon in Paharganj area). Had corn soup, Cheese pizza, Butter Roti, stuff tomatoes, dal tadka. Food was good. Pizza okay types.. Best part was soup and Roti.. Good place in Paharganj for exclusive vegetarians..\n",
            "Registro  5137  Review:  Place is clean. They having nice menu. Stuff is helpful and polite. Speaking good English so it's easy to comunicate. Place seems to be quite popular in this area. Food was nice but not that tasty like in other places which I visited. I had thali it's quite good. \n",
            "Registro  6339  Review:  Lovely hotel - worth splashing out on a room with superb breakfast. Just be very aware that the drink and food is very expensive.  £11 for a CAN of Kingfisher beer. £11 for a vodka tonic.  We tried 2 of the restaurants for dinner. Very pricey.  One curry, one plain rice, one mixed veg and plain nan bread. Plus 2 beers. £75 with 10% service charge included!!!!  Staff all very helpful. \n",
            "Registro  6689  Review:  We just ate dinner there. The food was awful. And the service was worse. We started by ordering cokes. They were FLAT. We mentioned it to the waiter, who took them off our table, very reluctantly, and replaced them with more coke..again flat! We ordered two pizzas. Both were soggy, and the pepperoni on the pizza was unrecognizable. We ordered a baked goat cheese with a tomato reduction..which sounded nice, but was quite awful. The lasto order was a pan seared fish..which was so tough, that we had to struggle to cut into it. There were all of three tables that were taken at the restaurant, and three waiters going up and down, yet not one of them noticed that we had finished eating. We had to get up to call a waited to ask him for a checqe. The food was definitely not good value for money. A first and last time at DIGIN for us..\n",
            "Registro  9101  Review:  The sitting arrangement on 1st floor is different from usual Dominos. Taste is as usual amazing. Nice to hang out.\n",
            "Registro  9538  Review:  Oriental Octopus has hit the perfect note of a fine balance between a soothing ambiance, flavorful food, smooth service and not-exorbitant cost. However it remains accessible only for Indian Habitat members, that is really restrictive for it's true patrons. Hope they make it open for all like the other fine-dine restaurant at Habitat called, \"The American Diner\". \n",
            "Registro  9923  Review:  Excellent food and service Enjoyed every dish, elegantly presented and delicately made. My daughter was having problems with acidity at the time we were ordering food. I asked the waiter to get something immediately, like french fries etc. He said anything will take 10 mins. I opened the box of doughnuts I was carrying and gave it to my daughter and asked for a plate after ordering 8 dishes and drinks for 5 of us. The waiter said he cannot get us a plate for outside food (One doughnut)  Uncalled for.\n",
            "Registro  13571  Review:  Good dining option on pandara road. The food was tasty and had a fresh taste. But menu is mill-of-the-run punjabi/mughlai and the place doesn't go wrong with the preperation and presentation.\n",
            "Registro  13683  Review:  Been there with friends..it was just amazing experience..the food was yum and service was beyond expectations.. i would definitely recommend it to friends and family..\n"
          ]
        }
      ]
    },
    {
      "cell_type": "markdown",
      "source": [
        "**Real: 5  / Previsto: 1** - Nesse extremo podemos ver que o modelo ainda pode ser melhorado pois ocorrem 6 casos em que as reviews são explicitamente boas, porém classificadas como ruins.\n",
        "\n",
        "**Real: 1 / Previsto:** 5 - Neste outro extremo observamos algo interessante: As 30 reviews são boas e o modelo as classifica como tal, porém review e rating são contraditórios. Possivelmente o usuário clicou errado ou pensou que a classificação 1 fosse a melhor."
      ],
      "metadata": {
        "id": "pI8LrdfH_yjZ"
      }
    },
    {
      "cell_type": "markdown",
      "source": [
        "## Conclusão:\n",
        "\n",
        "Levando em consideração todos os aspectos descritos na construção do projeto e nas análises de resultado, conclui-se que o modelo atingiu bons resultados. O projeto em si representou um desafio no âmbito exploratório e executivo especialmente por se tratar de uma classificação multi-categórica ordinal, enquanto outros projetos similares encontrados como referência tratavam de classificação multi-categórica nominal ou classificação binária."
      ],
      "metadata": {
        "id": "e7pd6Y4GREzE"
      }
    }
  ],
  "metadata": {
    "colab": {
      "provenance": [],
      "collapsed_sections": [
        "VAJIyRQNHIjn"
      ],
      "gpuType": "T4",
      "mount_file_id": "14YWB2F_trxAXlPGwj_HLM4-Zrt4ovZbH",
      "authorship_tag": "ABX9TyNDsiioLWP3lirbalNqLZvW",
      "include_colab_link": true
    },
    "kernelspec": {
      "display_name": "Python 3",
      "name": "python3"
    },
    "language_info": {
      "name": "python"
    },
    "accelerator": "GPU"
  },
  "nbformat": 4,
  "nbformat_minor": 0
}